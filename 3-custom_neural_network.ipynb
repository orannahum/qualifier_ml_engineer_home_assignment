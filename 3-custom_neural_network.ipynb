{
 "cells": [
  {
   "cell_type": "code",
   "execution_count": 1,
   "metadata": {},
   "outputs": [],
   "source": [
    "from tensorflow.keras.preprocessing.text import Tokenizer\n",
    "from tensorflow.keras.preprocessing.sequence import pad_sequences\n",
    "\n",
    "import pandas as pd\n",
    "import numpy as np\n",
    "import tensorflow as tf\n",
    "import sklearn\n",
    "from sklearn.preprocessing import LabelEncoder\n",
    "from sklearn.model_selection import train_test_split\n",
    "# import f1_score, recall_score, precision_score, accuracy_score\n",
    "from sklearn.metrics import f1_score, recall_score, precision_score, accuracy_score\n",
    "from tensorflow.keras import layers, regularizers  # Import regularizers here\n",
    "\n",
    "#from datasets import load_dataset\n",
    "\n"
   ]
  },
  {
   "cell_type": "code",
   "execution_count": 2,
   "metadata": {},
   "outputs": [],
   "source": [
    "all_train_df = pd.read_csv(\"datasets/train.csv\").rename(columns={\"prompt\": \"text\", \"type\": \"label\"})\n",
    "test_df = pd.read_csv(\"datasets/test.csv\").rename(columns={\"prompt\": \"text\", \"type\": \"label\"})\n",
    "\n"
   ]
  },
  {
   "cell_type": "code",
   "execution_count": 3,
   "metadata": {},
   "outputs": [],
   "source": [
    "# shuffle and with random seed for reproducibility and split the data into train and val 0.8/0.2\n",
    "all_train_df = all_train_df.sample(frac=1, random_state=42).reset_index(drop=True)\n",
    "\n",
    "# Split the data into training (80%) and validation (20%)\n",
    "train_size = int(0.8 * len(all_train_df))\n",
    "train_df = all_train_df[:train_size].reset_index(drop=True)\n",
    "val_df = all_train_df[train_size:].reset_index(drop=True)"
   ]
  },
  {
   "cell_type": "code",
   "execution_count": 4,
   "metadata": {},
   "outputs": [
    {
     "name": "stderr",
     "output_type": "stream",
     "text": [
      "2024-11-05 15:49:42.663430: I tensorflow/core/common_runtime/pluggable_device/pluggable_device_factory.cc:306] Could not identify NUMA node of platform GPU ID 0, defaulting to 0. Your kernel may not have been built with NUMA support.\n",
      "2024-11-05 15:49:42.663487: I tensorflow/core/common_runtime/pluggable_device/pluggable_device_factory.cc:272] Created TensorFlow device (/job:localhost/replica:0/task:0/device:GPU:0 with 0 MB memory) -> physical PluggableDevice (device: 0, name: METAL, pci bus id: <undefined>)\n"
     ]
    },
    {
     "name": "stdout",
     "output_type": "stream",
     "text": [
      "Epoch 1/10\n"
     ]
    },
    {
     "name": "stderr",
     "output_type": "stream",
     "text": [
      "2024-11-05 15:49:44.038923: I tensorflow/core/grappler/optimizers/custom_graph_optimizer_registry.cc:114] Plugin optimizer for device_type GPU is enabled.\n",
      "2024-11-05 15:49:44.099705: E tensorflow/core/grappler/optimizers/meta_optimizer.cc:954] model_pruner failed: INVALID_ARGUMENT: Graph does not contain terminal node AssignAddVariableOp_10.\n"
     ]
    },
    {
     "name": "stdout",
     "output_type": "stream",
     "text": [
      "27/27 [==============================] - ETA: 0s - loss: 0.6308 - accuracy: 0.7988"
     ]
    },
    {
     "name": "stderr",
     "output_type": "stream",
     "text": [
      "2024-11-05 15:49:48.614185: I tensorflow/core/grappler/optimizers/custom_graph_optimizer_registry.cc:114] Plugin optimizer for device_type GPU is enabled.\n"
     ]
    },
    {
     "name": "stdout",
     "output_type": "stream",
     "text": [
      "27/27 [==============================] - 5s 83ms/step - loss: 0.6308 - accuracy: 0.7988 - val_loss: 0.5464 - val_accuracy: 0.8038\n",
      "Epoch 2/10\n",
      "27/27 [==============================] - 1s 50ms/step - loss: 0.4553 - accuracy: 0.8192 - val_loss: 0.3900 - val_accuracy: 0.8134\n",
      "Epoch 3/10\n",
      "27/27 [==============================] - 1s 41ms/step - loss: 0.3057 - accuracy: 0.8575 - val_loss: 0.3070 - val_accuracy: 0.8660\n",
      "Epoch 4/10\n",
      "27/27 [==============================] - 1s 41ms/step - loss: 0.2051 - accuracy: 0.9401 - val_loss: 0.2366 - val_accuracy: 0.9282\n",
      "Epoch 5/10\n",
      "27/27 [==============================] - 1s 40ms/step - loss: 0.1366 - accuracy: 0.9641 - val_loss: 0.1983 - val_accuracy: 0.9426\n",
      "Epoch 6/10\n",
      "27/27 [==============================] - 1s 41ms/step - loss: 0.0958 - accuracy: 0.9760 - val_loss: 0.1816 - val_accuracy: 0.9378\n",
      "Epoch 7/10\n",
      "27/27 [==============================] - 1s 37ms/step - loss: 0.0717 - accuracy: 0.9832 - val_loss: 0.1721 - val_accuracy: 0.9426\n",
      "Epoch 8/10\n",
      "27/27 [==============================] - 1s 36ms/step - loss: 0.0569 - accuracy: 0.9868 - val_loss: 0.1667 - val_accuracy: 0.9378\n",
      "Epoch 9/10\n",
      "27/27 [==============================] - 1s 40ms/step - loss: 0.0462 - accuracy: 0.9904 - val_loss: 0.1591 - val_accuracy: 0.9426\n",
      "Epoch 10/10\n",
      "27/27 [==============================] - 1s 39ms/step - loss: 0.0388 - accuracy: 0.9916 - val_loss: 0.1561 - val_accuracy: 0.9426\n"
     ]
    }
   ],
   "source": [
    "\n",
    "\n",
    "# Preprocess text data\n",
    "max_vocab_size = 10000\n",
    "max_sequence_length = 100\n",
    "\n",
    "# Tokenization\n",
    "tokenizer = Tokenizer(num_words=max_vocab_size)\n",
    "tokenizer.fit_on_texts(train_df['text'])\n",
    "sequences = tokenizer.texts_to_sequences(train_df['text'])\n",
    "X_train = pad_sequences(sequences, maxlen=max_sequence_length)\n",
    "X_val = pad_sequences(tokenizer.texts_to_sequences(val_df['text']), maxlen=max_sequence_length)\n",
    "\n",
    "# Encode labels\n",
    "label_encoder = LabelEncoder()\n",
    "y_train = label_encoder.fit_transform(train_df['label'])\n",
    "y_val = label_encoder.transform(val_df['label'])\n",
    "\n",
    "\n",
    "# Define the model\n",
    "model = tf.keras.Sequential([\n",
    "    layers.Embedding(input_dim=max_vocab_size, output_dim=128, input_length=max_sequence_length),\n",
    "    layers.GlobalAveragePooling1D(),\n",
    "    layers.Dense(64, activation='relu'),\n",
    "    # Single output neuron for binary classification\n",
    "    layers.Dense(1, activation='sigmoid')  # Use sigmoid for binary classification\n",
    "])\n",
    "\n",
    "# Compile the model with binary crossentropy loss\n",
    "model.compile(optimizer='adam', loss='binary_crossentropy', metrics=['accuracy'])\n",
    "\n",
    "# Train the model\n",
    "history = model.fit(X_train, y_train, epochs=10, batch_size=32, validation_data=(X_val, y_val))\n",
    "\n",
    "# Evaluate the model on the test set\n",
    "test_sequences = tokenizer.texts_to_sequences(test_df['text'])\n",
    "X_test = pad_sequences(test_sequences, maxlen=max_sequence_length)\n",
    "y_test = label_encoder.transform(test_df['label'])\n",
    "\n"
   ]
  },
  {
   "cell_type": "code",
   "execution_count": 5,
   "metadata": {},
   "outputs": [
    {
     "name": "stdout",
     "output_type": "stream",
     "text": [
      "9/9 [==============================] - 0s 16ms/step\n"
     ]
    },
    {
     "name": "stderr",
     "output_type": "stream",
     "text": [
      "2024-11-05 15:49:58.953931: I tensorflow/core/grappler/optimizers/custom_graph_optimizer_registry.cc:114] Plugin optimizer for device_type GPU is enabled.\n"
     ]
    },
    {
     "name": "stdout",
     "output_type": "stream",
     "text": [
      "F1 Score: 0.9781021897810218\n",
      "Accuracy: 0.9770992366412213\n",
      "Recall: 0.9640287769784173\n",
      "Precision: 0.9925925925925926\n"
     ]
    }
   ],
   "source": [
    "y_probs = model.predict(X_test).ravel()\n",
    "y_pred = (y_probs > 0.5).astype(int)\n",
    "_f1_score = f1_score(y_test, y_pred)\n",
    "_accuracy = accuracy_score(y_test, y_pred)\n",
    "_recall = recall_score(y_test, y_pred)\n",
    "_precision = precision_score(y_test, y_pred)\n",
    "print(f\"F1 Score: {_f1_score}\")\n",
    "print(f\"Accuracy: {_accuracy}\")\n",
    "print(f\"Recall: {_recall}\")\n",
    "print(f\"Precision: {_precision}\")"
   ]
  },
  {
   "cell_type": "code",
   "execution_count": 6,
   "metadata": {},
   "outputs": [
    {
     "name": "stdout",
     "output_type": "stream",
     "text": [
      "Training model with embedding_dim=128, dense_units=64, dropout_rate=0.5\n",
      "Epoch 1/10\n"
     ]
    },
    {
     "name": "stderr",
     "output_type": "stream",
     "text": [
      "2024-11-05 15:49:59.549699: I tensorflow/core/grappler/optimizers/custom_graph_optimizer_registry.cc:114] Plugin optimizer for device_type GPU is enabled.\n",
      "2024-11-05 15:49:59.611075: E tensorflow/core/grappler/optimizers/meta_optimizer.cc:954] model_pruner failed: INVALID_ARGUMENT: Graph does not contain terminal node AssignAddVariableOp_10.\n"
     ]
    },
    {
     "name": "stdout",
     "output_type": "stream",
     "text": [
      "27/27 [==============================] - ETA: 0s - loss: 0.7212 - accuracy: 0.7713"
     ]
    },
    {
     "name": "stderr",
     "output_type": "stream",
     "text": [
      "2024-11-05 15:50:01.894849: I tensorflow/core/grappler/optimizers/custom_graph_optimizer_registry.cc:114] Plugin optimizer for device_type GPU is enabled.\n"
     ]
    },
    {
     "name": "stdout",
     "output_type": "stream",
     "text": [
      "27/27 [==============================] - 3s 78ms/step - loss: 0.7212 - accuracy: 0.7713 - val_loss: 0.6564 - val_accuracy: 0.7990\n",
      "Epoch 2/10\n",
      "27/27 [==============================] - 2s 62ms/step - loss: 0.5893 - accuracy: 0.8359 - val_loss: 0.5272 - val_accuracy: 0.8038\n",
      "Epoch 3/10\n",
      "27/27 [==============================] - 2s 57ms/step - loss: 0.4482 - accuracy: 0.8659 - val_loss: 0.4198 - val_accuracy: 0.8134\n",
      "Epoch 4/10\n",
      "27/27 [==============================] - 1s 49ms/step - loss: 0.3438 - accuracy: 0.9030 - val_loss: 0.3541 - val_accuracy: 0.8947\n",
      "Epoch 5/10\n",
      "27/27 [==============================] - 1s 50ms/step - loss: 0.2757 - accuracy: 0.9425 - val_loss: 0.3005 - val_accuracy: 0.9282\n",
      "Epoch 6/10\n",
      "27/27 [==============================] - 1s 50ms/step - loss: 0.2150 - accuracy: 0.9569 - val_loss: 0.2707 - val_accuracy: 0.9378\n",
      "Epoch 7/10\n",
      "27/27 [==============================] - 1s 50ms/step - loss: 0.1809 - accuracy: 0.9629 - val_loss: 0.2538 - val_accuracy: 0.9330\n",
      "Epoch 8/10\n",
      "27/27 [==============================] - 1s 50ms/step - loss: 0.1560 - accuracy: 0.9784 - val_loss: 0.2427 - val_accuracy: 0.9426\n",
      "Epoch 9/10\n",
      "27/27 [==============================] - 1s 49ms/step - loss: 0.1385 - accuracy: 0.9796 - val_loss: 0.2295 - val_accuracy: 0.9426\n",
      "Epoch 10/10\n",
      "27/27 [==============================] - 1s 48ms/step - loss: 0.1265 - accuracy: 0.9820 - val_loss: 0.2217 - val_accuracy: 0.9426\n",
      "Training model with embedding_dim=128, dense_units=64, dropout_rate=0.4\n",
      "Epoch 1/10\n"
     ]
    },
    {
     "name": "stderr",
     "output_type": "stream",
     "text": [
      "2024-11-05 15:50:15.195031: I tensorflow/core/grappler/optimizers/custom_graph_optimizer_registry.cc:114] Plugin optimizer for device_type GPU is enabled.\n",
      "2024-11-05 15:50:15.257152: E tensorflow/core/grappler/optimizers/meta_optimizer.cc:954] model_pruner failed: INVALID_ARGUMENT: Graph does not contain terminal node AssignAddVariableOp_10.\n"
     ]
    },
    {
     "name": "stdout",
     "output_type": "stream",
     "text": [
      "27/27 [==============================] - ETA: 0s - loss: 0.7258 - accuracy: 0.7844"
     ]
    },
    {
     "name": "stderr",
     "output_type": "stream",
     "text": [
      "2024-11-05 15:50:17.484968: I tensorflow/core/grappler/optimizers/custom_graph_optimizer_registry.cc:114] Plugin optimizer for device_type GPU is enabled.\n"
     ]
    },
    {
     "name": "stdout",
     "output_type": "stream",
     "text": [
      "27/27 [==============================] - 3s 82ms/step - loss: 0.7258 - accuracy: 0.7844 - val_loss: 0.6601 - val_accuracy: 0.8086\n",
      "Epoch 2/10\n",
      "27/27 [==============================] - 2s 56ms/step - loss: 0.5728 - accuracy: 0.8144 - val_loss: 0.4937 - val_accuracy: 0.8086\n",
      "Epoch 3/10\n",
      "27/27 [==============================] - 1s 53ms/step - loss: 0.4141 - accuracy: 0.8371 - val_loss: 0.3995 - val_accuracy: 0.8230\n",
      "Epoch 4/10\n",
      "27/27 [==============================] - 1s 54ms/step - loss: 0.3114 - accuracy: 0.9186 - val_loss: 0.3327 - val_accuracy: 0.8995\n",
      "Epoch 5/10\n",
      "27/27 [==============================] - 1s 55ms/step - loss: 0.2459 - accuracy: 0.9485 - val_loss: 0.2942 - val_accuracy: 0.9282\n",
      "Epoch 6/10\n",
      "27/27 [==============================] - 1s 50ms/step - loss: 0.1989 - accuracy: 0.9677 - val_loss: 0.2692 - val_accuracy: 0.9378\n",
      "Epoch 7/10\n",
      "27/27 [==============================] - 1s 47ms/step - loss: 0.1702 - accuracy: 0.9713 - val_loss: 0.2539 - val_accuracy: 0.9426\n",
      "Epoch 8/10\n",
      "27/27 [==============================] - 1s 47ms/step - loss: 0.1504 - accuracy: 0.9796 - val_loss: 0.2443 - val_accuracy: 0.9426\n",
      "Epoch 9/10\n",
      "27/27 [==============================] - 1s 48ms/step - loss: 0.1353 - accuracy: 0.9832 - val_loss: 0.2316 - val_accuracy: 0.9426\n",
      "Epoch 10/10\n",
      "27/27 [==============================] - 1s 52ms/step - loss: 0.1197 - accuracy: 0.9868 - val_loss: 0.2241 - val_accuracy: 0.9378\n",
      "Training model with embedding_dim=256, dense_units=128, dropout_rate=0.4\n",
      "Epoch 1/10\n"
     ]
    },
    {
     "name": "stderr",
     "output_type": "stream",
     "text": [
      "2024-11-05 15:50:30.823943: I tensorflow/core/grappler/optimizers/custom_graph_optimizer_registry.cc:114] Plugin optimizer for device_type GPU is enabled.\n",
      "2024-11-05 15:50:30.885186: E tensorflow/core/grappler/optimizers/meta_optimizer.cc:954] model_pruner failed: INVALID_ARGUMENT: Graph does not contain terminal node AssignAddVariableOp_10.\n"
     ]
    },
    {
     "name": "stdout",
     "output_type": "stream",
     "text": [
      "27/27 [==============================] - ETA: 0s - loss: 0.7477 - accuracy: 0.7928"
     ]
    },
    {
     "name": "stderr",
     "output_type": "stream",
     "text": [
      "2024-11-05 15:50:34.190150: I tensorflow/core/grappler/optimizers/custom_graph_optimizer_registry.cc:114] Plugin optimizer for device_type GPU is enabled.\n"
     ]
    },
    {
     "name": "stdout",
     "output_type": "stream",
     "text": [
      "27/27 [==============================] - 4s 118ms/step - loss: 0.7477 - accuracy: 0.7928 - val_loss: 0.6136 - val_accuracy: 0.7990\n",
      "Epoch 2/10\n",
      "27/27 [==============================] - 2s 75ms/step - loss: 0.4998 - accuracy: 0.8192 - val_loss: 0.4471 - val_accuracy: 0.8134\n",
      "Epoch 3/10\n",
      "27/27 [==============================] - 2s 79ms/step - loss: 0.3405 - accuracy: 0.8982 - val_loss: 0.3433 - val_accuracy: 0.9139\n",
      "Epoch 4/10\n",
      "27/27 [==============================] - 2s 63ms/step - loss: 0.2375 - accuracy: 0.9557 - val_loss: 0.2871 - val_accuracy: 0.9378\n",
      "Epoch 5/10\n",
      "27/27 [==============================] - 2s 73ms/step - loss: 0.1872 - accuracy: 0.9725 - val_loss: 0.2584 - val_accuracy: 0.9426\n",
      "Epoch 6/10\n",
      "27/27 [==============================] - 2s 64ms/step - loss: 0.1550 - accuracy: 0.9772 - val_loss: 0.2374 - val_accuracy: 0.9426\n",
      "Epoch 7/10\n",
      "27/27 [==============================] - 2s 75ms/step - loss: 0.1305 - accuracy: 0.9820 - val_loss: 0.2286 - val_accuracy: 0.9378\n",
      "Epoch 8/10\n",
      "27/27 [==============================] - 2s 67ms/step - loss: 0.1131 - accuracy: 0.9844 - val_loss: 0.2154 - val_accuracy: 0.9426\n",
      "Epoch 9/10\n",
      "27/27 [==============================] - 1s 54ms/step - loss: 0.1008 - accuracy: 0.9868 - val_loss: 0.2157 - val_accuracy: 0.9378\n",
      "Epoch 10/10\n",
      "27/27 [==============================] - 2s 56ms/step - loss: 0.0926 - accuracy: 0.9892 - val_loss: 0.2018 - val_accuracy: 0.9474\n",
      "Training model with embedding_dim=256, dense_units=64, dropout_rate=0.3\n",
      "Epoch 1/10\n"
     ]
    },
    {
     "name": "stderr",
     "output_type": "stream",
     "text": [
      "2024-11-05 15:50:51.466636: I tensorflow/core/grappler/optimizers/custom_graph_optimizer_registry.cc:114] Plugin optimizer for device_type GPU is enabled.\n",
      "2024-11-05 15:50:51.530986: E tensorflow/core/grappler/optimizers/meta_optimizer.cc:954] model_pruner failed: INVALID_ARGUMENT: Graph does not contain terminal node AssignAddVariableOp_10.\n"
     ]
    },
    {
     "name": "stdout",
     "output_type": "stream",
     "text": [
      "27/27 [==============================] - ETA: 0s - loss: 0.7105 - accuracy: 0.7772"
     ]
    },
    {
     "name": "stderr",
     "output_type": "stream",
     "text": [
      "2024-11-05 15:50:54.627533: I tensorflow/core/grappler/optimizers/custom_graph_optimizer_registry.cc:114] Plugin optimizer for device_type GPU is enabled.\n"
     ]
    },
    {
     "name": "stdout",
     "output_type": "stream",
     "text": [
      "27/27 [==============================] - 4s 114ms/step - loss: 0.7105 - accuracy: 0.7772 - val_loss: 0.6043 - val_accuracy: 0.8038\n",
      "Epoch 2/10\n",
      "27/27 [==============================] - 2s 74ms/step - loss: 0.5052 - accuracy: 0.8275 - val_loss: 0.4427 - val_accuracy: 0.8134\n",
      "Epoch 3/10\n",
      "27/27 [==============================] - 2s 65ms/step - loss: 0.3620 - accuracy: 0.8766 - val_loss: 0.3636 - val_accuracy: 0.8612\n",
      "Epoch 4/10\n",
      "27/27 [==============================] - 2s 61ms/step - loss: 0.2585 - accuracy: 0.9425 - val_loss: 0.3013 - val_accuracy: 0.9330\n",
      "Epoch 5/10\n",
      "27/27 [==============================] - 2s 66ms/step - loss: 0.2032 - accuracy: 0.9665 - val_loss: 0.2655 - val_accuracy: 0.9426\n",
      "Epoch 6/10\n",
      "27/27 [==============================] - 2s 67ms/step - loss: 0.1688 - accuracy: 0.9713 - val_loss: 0.2488 - val_accuracy: 0.9426\n",
      "Epoch 7/10\n",
      "27/27 [==============================] - 2s 65ms/step - loss: 0.1434 - accuracy: 0.9820 - val_loss: 0.2329 - val_accuracy: 0.9330\n",
      "Epoch 8/10\n",
      "27/27 [==============================] - 2s 58ms/step - loss: 0.1255 - accuracy: 0.9820 - val_loss: 0.2249 - val_accuracy: 0.9330\n",
      "Epoch 9/10\n",
      "27/27 [==============================] - 2s 62ms/step - loss: 0.1111 - accuracy: 0.9856 - val_loss: 0.2159 - val_accuracy: 0.9426\n",
      "Epoch 10/10\n",
      "27/27 [==============================] - 2s 58ms/step - loss: 0.1045 - accuracy: 0.9892 - val_loss: 0.2107 - val_accuracy: 0.9426\n"
     ]
    }
   ],
   "source": [
    "def train_and_evaluate_model(embedding_dim, dense_units, dropout_rate):\n",
    "    model = tf.keras.Sequential([\n",
    "        layers.Embedding(input_dim=max_vocab_size, output_dim=embedding_dim, input_length=max_sequence_length),\n",
    "        layers.GlobalAveragePooling1D(),\n",
    "        \n",
    "        # First Dense Layer\n",
    "        layers.Dense(dense_units, activation='relu', kernel_regularizer=regularizers.l2(0.001)),  # L2 Regularization\n",
    "        layers.Dropout(rate=dropout_rate),  # Dropout after first dense layer\n",
    "\n",
    "        \n",
    "        # Output layer for binary classification\n",
    "        layers.Dense(1, activation='sigmoid')\n",
    "    ])\n",
    "\n",
    "    # Compile the model\n",
    "    model.compile(optimizer='adam', loss='binary_crossentropy', metrics=['accuracy'])\n",
    "    \n",
    "    # Train the model\n",
    "    history = model.fit(X_train, y_train, epochs=10, validation_data=(X_val, y_val), batch_size=32)\n",
    "    \n",
    "    return history\n",
    "\n",
    "# Define different configurations to try\n",
    "configs = [\n",
    "    (128, 64, 0.5),\n",
    "    (128, 64, 0.4),\n",
    "    (256, 128, 0.4),\n",
    "    (256, 64, 0.3),  # You can adjust these configurations as needed\n",
    "    (128, 64, 0.1),\n",
    "    (128, 64, 0.0),\n",
    "\n",
    "]\n",
    "best_params = {}\n",
    "# Iterate through configurations\n",
    "for embedding_dim, dense_units, dropout_rate in configs:\n",
    "    print(f'Training model with embedding_dim={embedding_dim}, dense_units={dense_units}, dropout_rate={dropout_rate}')\n",
    "    history = train_and_evaluate_model(embedding_dim, dense_units, dropout_rate)\n",
    "    if not best_params or history.history['val_accuracy'][-1] > best_params['val_accuracy']:\n",
    "        best_params = {\n",
    "            'embedding_dim': embedding_dim,\n",
    "            'dense_units': dense_units,\n",
    "            'dropout_rate': dropout_rate,\n",
    "            'val_accuracy': history.history['val_accuracy'][-1]\n",
    "        }\n"
   ]
  },
  {
   "cell_type": "markdown",
   "metadata": {},
   "source": []
  },
  {
   "cell_type": "code",
   "execution_count": 9,
   "metadata": {},
   "outputs": [
    {
     "data": {
      "text/plain": [
       "{'embedding_dim': 256,\n",
       " 'dense_units': 128,\n",
       " 'dropout_rate': 0.4,\n",
       " 'val_accuracy': 0.9473684430122375}"
      ]
     },
     "execution_count": 9,
     "metadata": {},
     "output_type": "execute_result"
    }
   ],
   "source": [
    "best_params"
   ]
  },
  {
   "cell_type": "code",
   "execution_count": 10,
   "metadata": {},
   "outputs": [],
   "source": [
    "X_train_all = pad_sequences(tokenizer.texts_to_sequences(all_train_df['text']), maxlen=max_sequence_length)\n",
    "y_train_all = label_encoder.transform(all_train_df['label'])"
   ]
  },
  {
   "cell_type": "code",
   "execution_count": 11,
   "metadata": {},
   "outputs": [
    {
     "name": "stdout",
     "output_type": "stream",
     "text": [
      "Epoch 1/10\n"
     ]
    },
    {
     "name": "stderr",
     "output_type": "stream",
     "text": [
      "2024-11-05 15:53:42.458972: I tensorflow/core/grappler/optimizers/custom_graph_optimizer_registry.cc:114] Plugin optimizer for device_type GPU is enabled.\n",
      "2024-11-05 15:53:42.541551: E tensorflow/core/grappler/optimizers/meta_optimizer.cc:954] model_pruner failed: INVALID_ARGUMENT: Graph does not contain terminal node AssignAddVariableOp_10.\n"
     ]
    },
    {
     "name": "stdout",
     "output_type": "stream",
     "text": [
      "33/33 [==============================] - ETA: 0s - loss: 0.7259 - accuracy: 0.7768"
     ]
    },
    {
     "name": "stderr",
     "output_type": "stream",
     "text": [
      "2024-11-05 15:53:46.767877: I tensorflow/core/grappler/optimizers/custom_graph_optimizer_registry.cc:114] Plugin optimizer for device_type GPU is enabled.\n"
     ]
    },
    {
     "name": "stdout",
     "output_type": "stream",
     "text": [
      "33/33 [==============================] - 5s 125ms/step - loss: 0.7259 - accuracy: 0.7768 - val_loss: 0.5652 - val_accuracy: 0.8038\n",
      "Epoch 2/10\n",
      "33/33 [==============================] - 3s 82ms/step - loss: 0.4546 - accuracy: 0.8266 - val_loss: 0.3694 - val_accuracy: 0.8804\n",
      "Epoch 3/10\n",
      "33/33 [==============================] - 2s 72ms/step - loss: 0.2960 - accuracy: 0.9272 - val_loss: 0.2517 - val_accuracy: 0.9569\n",
      "Epoch 4/10\n",
      "33/33 [==============================] - 2s 75ms/step - loss: 0.2117 - accuracy: 0.9598 - val_loss: 0.1964 - val_accuracy: 0.9617\n",
      "Epoch 5/10\n",
      "33/33 [==============================] - 2s 69ms/step - loss: 0.1639 - accuracy: 0.9741 - val_loss: 0.1618 - val_accuracy: 0.9617\n",
      "Epoch 6/10\n",
      "33/33 [==============================] - 2s 74ms/step - loss: 0.1376 - accuracy: 0.9780 - val_loss: 0.1380 - val_accuracy: 0.9713\n",
      "Epoch 7/10\n",
      "33/33 [==============================] - 2s 61ms/step - loss: 0.1196 - accuracy: 0.9818 - val_loss: 0.1228 - val_accuracy: 0.9713\n",
      "Epoch 8/10\n",
      "33/33 [==============================] - 2s 61ms/step - loss: 0.1063 - accuracy: 0.9847 - val_loss: 0.1123 - val_accuracy: 0.9713\n",
      "Epoch 9/10\n",
      "33/33 [==============================] - 2s 67ms/step - loss: 0.0968 - accuracy: 0.9885 - val_loss: 0.1042 - val_accuracy: 0.9713\n",
      "Epoch 10/10\n",
      "33/33 [==============================] - 2s 58ms/step - loss: 0.0848 - accuracy: 0.9904 - val_loss: 0.0941 - val_accuracy: 0.9761\n"
     ]
    }
   ],
   "source": [
    "best_model = tf.keras.Sequential([\n",
    "    layers.Embedding(input_dim=max_vocab_size, output_dim=best_params['embedding_dim'], input_length=max_sequence_length),\n",
    "    layers.GlobalAveragePooling1D(),\n",
    "    layers.Dense(best_params['dense_units'], activation='relu', kernel_regularizer=regularizers.l2(0.001)),\n",
    "    layers.Dropout(rate=best_params['dropout_rate']),\n",
    "    layers.Dense(1, activation='sigmoid')\n",
    "])\n",
    "\n",
    "best_model.compile(optimizer='adam', loss='binary_crossentropy', metrics=['accuracy'])\n",
    "\n",
    "history = best_model.fit(X_train_all, y_train_all, epochs=10, validation_data=(X_val, y_val), batch_size=32)\n",
    "\n"
   ]
  },
  {
   "cell_type": "code",
   "execution_count": null,
   "metadata": {},
   "outputs": [],
   "source": [
    "y_probs = best_model.predict(X_test).ravel()\n",
    "y_pred = (y_probs > 0.5).astype(int)\n",
    "_f1_score = f1_score(y_test, y_pred)\n",
    "_accuracy = accuracy_score(y_test, y_pred)\n",
    "_recall = recall_score(y_test, y_pred)\n",
    "_precision = precision_score(y_test, y_pred)\n",
    "print(f\"F1 Score: {_f1_score}\")\n",
    "print(f\"Accuracy: {_accuracy}\")\n",
    "print(f\"Recall: {_recall}\")\n",
    "print(f\"Precision: {_precision}\")"
   ]
  }
 ],
 "metadata": {
  "kernelspec": {
   "display_name": "qualifier-env",
   "language": "python",
   "name": "python3"
  },
  "language_info": {
   "codemirror_mode": {
    "name": "ipython",
    "version": 3
   },
   "file_extension": ".py",
   "mimetype": "text/x-python",
   "name": "python",
   "nbconvert_exporter": "python",
   "pygments_lexer": "ipython3",
   "version": "3.9.20"
  }
 },
 "nbformat": 4,
 "nbformat_minor": 2
}
