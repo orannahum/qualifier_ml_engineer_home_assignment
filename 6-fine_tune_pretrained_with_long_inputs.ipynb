{
 "cells": [
  {
   "cell_type": "code",
   "execution_count": 55,
   "metadata": {},
   "outputs": [],
   "source": [
    "from transformers import BertForSequenceClassification, BertTokenizer, Trainer, TrainingArguments, pipeline\n",
    "from datasets import load_dataset, DatasetDict, ClassLabel, Dataset\n",
    "from huggingface_hub import login\n",
    "import os\n",
    "from dotenv import load_dotenv\n",
    "from sklearn.model_selection import train_test_split\n",
    "from sklearn.metrics import f1_score, recall_score, precision_score, accuracy_score\n",
    "from datasets import DatasetDict, concatenate_datasets\n",
    "import torch\n",
    "import numpy as np\n",
    "from sklearn.metrics import confusion_matrix\n",
    "import seaborn as sns\n",
    "import matplotlib.pyplot as plt\n",
    "from nltk.corpus import stopwords\n",
    "from nltk.stem import WordNetLemmatizer\n",
    "import re"
   ]
  },
  {
   "cell_type": "markdown",
   "metadata": {},
   "source": [
    "#### Load datasets and map labels to integers, \"benign\" -> 0, \"jailbreak\" -> 1"
   ]
  },
  {
   "cell_type": "code",
   "execution_count": 56,
   "metadata": {},
   "outputs": [],
   "source": [
    "dataset = load_dataset(\"jackhhao/jailbreak-classification\")\n",
    "# rename prompt to text and label to label\n",
    "dataset = dataset.rename_column(\"prompt\", \"text\")\n",
    "dataset = dataset.rename_column(\"type\", \"labels\")\n",
    "\n",
    "def label_mapping(example):\n",
    "    example[\"labels\"] = 0 if example[\"labels\"] == \"benign\" else 1\n",
    "    return example\n",
    "\n",
    "dataset = dataset.map(label_mapping)"
   ]
  },
  {
   "cell_type": "markdown",
   "metadata": {},
   "source": [
    "#### Show Dataset:"
   ]
  },
  {
   "cell_type": "code",
   "execution_count": 57,
   "metadata": {},
   "outputs": [
    {
     "data": {
      "text/plain": [
       "DatasetDict({\n",
       "    train: Dataset({\n",
       "        features: ['text', 'labels'],\n",
       "        num_rows: 1044\n",
       "    })\n",
       "    test: Dataset({\n",
       "        features: ['text', 'labels'],\n",
       "        num_rows: 262\n",
       "    })\n",
       "})"
      ]
     },
     "execution_count": 57,
     "metadata": {},
     "output_type": "execute_result"
    }
   ],
   "source": [
    "dataset"
   ]
  },
  {
   "cell_type": "markdown",
   "metadata": {},
   "source": [
    "#### Load pre-trained BERT tokenizer and model for binary sequence classification from Hugging Face, with the model configured for two output labels."
   ]
  },
  {
   "cell_type": "code",
   "execution_count": 58,
   "metadata": {},
   "outputs": [
    {
     "name": "stderr",
     "output_type": "stream",
     "text": [
      "Some weights of BertForSequenceClassification were not initialized from the model checkpoint at bert-base-uncased and are newly initialized: ['classifier.bias', 'classifier.weight']\n",
      "You should probably TRAIN this model on a down-stream task to be able to use it for predictions and inference.\n"
     ]
    }
   ],
   "source": [
    "tokenizer = BertTokenizer.from_pretrained(\"bert-base-uncased\")\n",
    "model = BertForSequenceClassification.from_pretrained(\"bert-base-uncased\", num_labels=2)"
   ]
  },
  {
   "cell_type": "markdown",
   "metadata": {},
   "source": [
    "#### Make train_df"
   ]
  },
  {
   "cell_type": "code",
   "execution_count": 59,
   "metadata": {},
   "outputs": [],
   "source": [
    "train_df = dataset[\"train\"].to_pandas()"
   ]
  },
  {
   "cell_type": "markdown",
   "metadata": {},
   "source": [
    "#### Show the number of rows that contain text bigger than 512 tokens"
   ]
  },
  {
   "cell_type": "code",
   "execution_count": 60,
   "metadata": {},
   "outputs": [
    {
     "name": "stderr",
     "output_type": "stream",
     "text": [
      "Token indices sequence length is longer than the specified maximum sequence length for this model (854 > 512). Running this sequence through the model will result in indexing errors\n"
     ]
    },
    {
     "name": "stdout",
     "output_type": "stream",
     "text": [
      "Number of rows that have more than 512 tokens in text:  192\n",
      "Precentage of rows that have more than 512 tokens in text:  18.39 %\n"
     ]
    }
   ],
   "source": [
    "train_df['num_of_tokens_text'] = train_df[\"text\"].apply(lambda x: len(tokenizer(x)[\"input_ids\"]))\n",
    "num_of_rows_bigger_then_512 = len(train_df[train_df['num_of_tokens_text'] > 512])\n",
    "print(\"Number of rows that have more than 512 tokens in text: \", num_of_rows_bigger_then_512)\n",
    "print(\"Precentage of rows that have more than 512 tokens in text: \", np.round(num_of_rows_bigger_then_512 / len(train_df) * 100, 2), \"%\")\n"
   ]
  },
  {
   "cell_type": "markdown",
   "metadata": {},
   "source": [
    "#### 18.4% is quite high. Let's preprocess the text to reduce the token count, and then drop the rows that have more than 512 tokens.\""
   ]
  },
  {
   "cell_type": "code",
   "execution_count": 61,
   "metadata": {},
   "outputs": [],
   "source": [
    "# Download stopwords if needed\n",
    "stop_words = set(stopwords.words('english'))\n",
    "\n",
    "def remove_stopwords(text):\n",
    "    return ' '.join(word for word in text.split() if word not in stop_words)\n",
    "lemmatizer = WordNetLemmatizer()\n",
    "\n",
    "def lemmatize_text(text):\n",
    "    return ' '.join(lemmatizer.lemmatize(word) for word in text.split())\n",
    "def preprocess_text(text):\n",
    "    # Basic text cleaning\n",
    "    text = text.lower()\n",
    "    text = re.sub(r'http\\S+|www\\S+|https\\S+', '', text)\n",
    "    text = re.sub(r'<.*?>', '', text)\n",
    "    text = re.sub(r'[^a-zA-Z\\s]', '', text)\n",
    "    text = re.sub(r'\\s+', ' ', text).strip()\n",
    "    # Remove stopwords\n",
    "    text = ' '.join(word for word in text.split() if word not in stop_words)\n",
    "    # Lemmatize text\n",
    "    text = ' '.join(lemmatizer.lemmatize(word) for word in text.split())\n",
    "    return text"
   ]
  },
  {
   "cell_type": "markdown",
   "metadata": {},
   "source": [
    "#### After preprocess the number is 17 and the precentage is 1.63%."
   ]
  },
  {
   "cell_type": "code",
   "execution_count": 62,
   "metadata": {},
   "outputs": [
    {
     "name": "stdout",
     "output_type": "stream",
     "text": [
      "Number of rows that have more than 512 tokens in text after preprocess:  17\n",
      "Precentage of rows that have more than 512 tokens in text after preprocess:  1.63 %\n"
     ]
    }
   ],
   "source": [
    "train_df['text_after_preprocess'] = train_df['text'].apply(preprocess_text)\n",
    "train_df['num_of_tokens_text_after_preprocess'] = train_df[\"text_after_preprocess\"].apply(lambda x: len(tokenizer(x)[\"input_ids\"]))\n",
    "num_of_rows_bigger_then_512_after_preprocess = len(train_df[train_df['num_of_tokens_text_after_preprocess'] > 512])\n",
    "print(\"Number of rows that have more than 512 tokens in text after preprocess: \", num_of_rows_bigger_then_512_after_preprocess)\n",
    "print(\"Precentage of rows that have more than 512 tokens in text after preprocess: \", np.round(num_of_rows_bigger_then_512_after_preprocess / len(train_df) * 100, 2), \"%\")"
   ]
  },
  {
   "cell_type": "markdown",
   "metadata": {},
   "source": [
    "#### Show distribution of num_of_tokens_text and num_of_tokens_text_preprocess in 2 histograms"
   ]
  },
  {
   "cell_type": "code",
   "execution_count": 63,
   "metadata": {},
   "outputs": [
    {
     "data": {
      "text/plain": [
       "Text(0.5, 1.0, 'Number of tokens in preprocessed text')"
      ]
     },
     "execution_count": 63,
     "metadata": {},
     "output_type": "execute_result"
    },
    {
     "data": {
      "image/png": "[encoded data removed]",
      "text/plain": [
       "<Figure size 1500x500 with 2 Axes>"
      ]
     },
     "metadata": {},
     "output_type": "display_data"
    }
   ],
   "source": [
    "fig, ax = plt.subplots(1, 2, figsize=(15, 5))\n",
    "sns.histplot(train_df['num_of_tokens_text'], ax=ax[0])\n",
    "ax[0].set_title('Number of tokens in text')\n",
    "sns.histplot(train_df['num_of_tokens_text_after_preprocess'], ax=ax[1])\n",
    "ax[1].set_title('Number of tokens in preprocessed text')"
   ]
  },
  {
   "cell_type": "markdown",
   "metadata": {},
   "source": [
    "#### Drop the rows that have more than 512 tokens in text after preprocess"
   ]
  },
  {
   "cell_type": "code",
   "execution_count": 64,
   "metadata": {},
   "outputs": [],
   "source": [
    "\n",
    "# drop rows that have more than 512 tokens in text after preprocess\n",
    "train_df = train_df[train_df['num_of_tokens_text'] <= 512]"
   ]
  },
  {
   "cell_type": "markdown",
   "metadata": {},
   "source": [
    "#### Filter columns and reset index "
   ]
  },
  {
   "cell_type": "code",
   "execution_count": 65,
   "metadata": {},
   "outputs": [],
   "source": [
    "train_df = train_df[['text', 'labels']]\n",
    "train_df = train_df.reset_index(drop=True)\n"
   ]
  },
  {
   "cell_type": "markdown",
   "metadata": {},
   "source": [
    "#### Create dataset_2 with update train data"
   ]
  },
  {
   "cell_type": "code",
   "execution_count": 66,
   "metadata": {},
   "outputs": [],
   "source": [
    "\n",
    "dataset_2 = DatasetDict({\n",
    "    'train': Dataset.from_pandas(train_df),\n",
    "    'test': dataset['test'],    \n",
    "})\n"
   ]
  },
  {
   "cell_type": "markdown",
   "metadata": {},
   "source": [
    "#### Show dataset_2"
   ]
  },
  {
   "cell_type": "code",
   "execution_count": 67,
   "metadata": {},
   "outputs": [
    {
     "data": {
      "text/plain": [
       "DatasetDict({\n",
       "    train: Dataset({\n",
       "        features: ['text', 'labels'],\n",
       "        num_rows: 852\n",
       "    })\n",
       "    test: Dataset({\n",
       "        features: ['text', 'labels'],\n",
       "        num_rows: 262\n",
       "    })\n",
       "})"
      ]
     },
     "execution_count": 67,
     "metadata": {},
     "output_type": "execute_result"
    }
   ],
   "source": [
    "dataset_2"
   ]
  },
  {
   "cell_type": "markdown",
   "metadata": {},
   "source": [
    "#### Create a function to preprocess and tokenize the text"
   ]
  },
  {
   "cell_type": "code",
   "execution_count": 68,
   "metadata": {},
   "outputs": [
    {
     "name": "stderr",
     "output_type": "stream",
     "text": [
      "Map: 100%|██████████| 852/852 [00:01<00:00, 681.88 examples/s]\n"
     ]
    }
   ],
   "source": [
    "def tokenize_function_with_preprocess(examples):\n",
    "    examples[\"text\"] = [preprocess_text(text) for text in examples[\"text\"]]\n",
    "    return tokenizer(examples[\"text\"], padding=\"max_length\", truncation=True)\n",
    "\n",
    "tokenized_datasets = dataset_2.map(tokenize_function_with_preprocess, batched=True)"
   ]
  },
  {
   "cell_type": "markdown",
   "metadata": {},
   "source": [
    "#### Split the dataset into training and validation, and test sets. Make final_dataset."
   ]
  },
  {
   "cell_type": "code",
   "execution_count": 69,
   "metadata": {},
   "outputs": [
    {
     "name": "stderr",
     "output_type": "stream",
     "text": [
      "Casting the dataset: 100%|██████████| 852/852 [00:00<00:00, 244061.40 examples/s]\n"
     ]
    }
   ],
   "source": [
    "tokenized_datasets = tokenized_datasets.cast_column('labels', ClassLabel(names=['benign', 'jailbreak']))  # Modify names as needed\n",
    "\n",
    "# Split the training set into 80% train and 20% validation\n",
    "train_test_split = tokenized_datasets['train'].train_test_split(test_size=0.2, stratify_by_column='labels', seed=42)\n",
    "\n",
    "# Combine the new splits into a DatasetDict\n",
    "final_dataset = DatasetDict({\n",
    "    'train': train_test_split['train'],\n",
    "    'val': train_test_split['test'],\n",
    "    'test': tokenized_datasets['test']\n",
    "})"
   ]
  },
  {
   "cell_type": "markdown",
   "metadata": {},
   "source": [
    "#### Training "
   ]
  },
  {
   "cell_type": "code",
   "execution_count": 70,
   "metadata": {},
   "outputs": [
    {
     "name": "stderr",
     "output_type": "stream",
     "text": [
      "/opt/anaconda3/envs/qualifier-env/lib/python3.10/site-packages/transformers/training_args.py:1559: FutureWarning: `evaluation_strategy` is deprecated and will be removed in version 4.46 of 🤗 Transformers. Use `eval_strategy` instead\n",
      "  warnings.warn(\n",
      " 20%|██        | 86/430 [01:54<05:56,  1.04s/it]\n",
      " 20%|██        | 86/430 [02:01<05:56,  1.04s/it]"
     ]
    },
    {
     "name": "stdout",
     "output_type": "stream",
     "text": [
      "{'eval_loss': 0.17831751704216003, 'eval_runtime': 7.6298, 'eval_samples_per_second': 22.412, 'eval_steps_per_second': 2.883, 'epoch': 1.0}\n"
     ]
    },
    {
     "name": "stderr",
     "output_type": "stream",
     "text": [
      " 40%|████      | 172/430 [03:55<04:33,  1.06s/it]\n",
      " 40%|████      | 172/430 [04:03<04:33,  1.06s/it]"
     ]
    },
    {
     "name": "stdout",
     "output_type": "stream",
     "text": [
      "{'eval_loss': 0.07416871190071106, 'eval_runtime': 7.5531, 'eval_samples_per_second': 22.64, 'eval_steps_per_second': 2.913, 'epoch': 2.0}\n"
     ]
    },
    {
     "name": "stderr",
     "output_type": "stream",
     "text": [
      " 60%|██████    | 258/430 [05:57<02:59,  1.04s/it]\n",
      " 60%|██████    | 258/430 [06:05<02:59,  1.04s/it]"
     ]
    },
    {
     "name": "stdout",
     "output_type": "stream",
     "text": [
      "{'eval_loss': 0.3528507649898529, 'eval_runtime': 7.6144, 'eval_samples_per_second': 22.457, 'eval_steps_per_second': 2.889, 'epoch': 3.0}\n"
     ]
    },
    {
     "name": "stderr",
     "output_type": "stream",
     "text": [
      " 80%|████████  | 344/430 [07:58<01:28,  1.03s/it]\n",
      " 80%|████████  | 344/430 [08:05<01:28,  1.03s/it]"
     ]
    },
    {
     "name": "stdout",
     "output_type": "stream",
     "text": [
      "{'eval_loss': 0.20816081762313843, 'eval_runtime': 7.5926, 'eval_samples_per_second': 22.522, 'eval_steps_per_second': 2.898, 'epoch': 4.0}\n"
     ]
    },
    {
     "name": "stderr",
     "output_type": "stream",
     "text": [
      "100%|██████████| 430/430 [09:58<00:00,  1.04s/it]\n",
      "100%|██████████| 430/430 [10:06<00:00,  1.41s/it]"
     ]
    },
    {
     "name": "stdout",
     "output_type": "stream",
     "text": [
      "{'eval_loss': 0.26743242144584656, 'eval_runtime': 7.6323, 'eval_samples_per_second': 22.405, 'eval_steps_per_second': 2.882, 'epoch': 5.0}\n",
      "{'train_runtime': 606.2829, 'train_samples_per_second': 5.616, 'train_steps_per_second': 0.709, 'train_loss': 0.1306006498115007, 'epoch': 5.0}\n"
     ]
    },
    {
     "name": "stderr",
     "output_type": "stream",
     "text": [
      "\n"
     ]
    },
    {
     "data": {
      "text/plain": [
       "TrainOutput(global_step=430, training_loss=0.1306006498115007, metrics={'train_runtime': 606.2829, 'train_samples_per_second': 5.616, 'train_steps_per_second': 0.709, 'total_flos': 895893143500800.0, 'train_loss': 0.1306006498115007, 'epoch': 5.0})"
      ]
     },
     "execution_count": 70,
     "metadata": {},
     "output_type": "execute_result"
    }
   ],
   "source": [
    "training_args = TrainingArguments(\n",
    "    output_dir=\"./results\",\n",
    "    evaluation_strategy=\"epoch\",\n",
    "    learning_rate=5e-5,\n",
    "    per_device_train_batch_size=8,\n",
    "    per_device_eval_batch_size=8,\n",
    "    num_train_epochs=5, \n",
    "    lr_scheduler_type=\"linear\",\n",
    "    save_strategy=\"no\",\n",
    ")\n",
    "trainer = Trainer(\n",
    "    model=model,\n",
    "    args=training_args,\n",
    "    train_dataset=final_dataset[\"train\"],\n",
    "    eval_dataset=final_dataset[\"val\"],\n",
    "\n",
    ")\n",
    "trainer.train()"
   ]
  },
  {
   "cell_type": "markdown",
   "metadata": {},
   "source": [
    "##### evaluate the model"
   ]
  },
  {
   "cell_type": "code",
   "execution_count": 71,
   "metadata": {},
   "outputs": [
    {
     "name": "stderr",
     "output_type": "stream",
     "text": [
      "100%|██████████| 22/22 [00:07<00:00,  2.91it/s]"
     ]
    },
    {
     "name": "stdout",
     "output_type": "stream",
     "text": [
      "trainer_evaluate: {'eval_loss': 0.26743242144584656, 'eval_runtime': 7.6221, 'eval_samples_per_second': 22.435, 'eval_steps_per_second': 2.886, 'epoch': 5.0}\n"
     ]
    },
    {
     "name": "stderr",
     "output_type": "stream",
     "text": [
      "\n"
     ]
    }
   ],
   "source": [
    "trainer_evaluate = trainer.evaluate()\n",
    "print(\"trainer_evaluate:\", trainer_evaluate)"
   ]
  },
  {
   "cell_type": "markdown",
   "metadata": {},
   "source": [
    "#### Update id2label and label2id"
   ]
  },
  {
   "cell_type": "code",
   "execution_count": 72,
   "metadata": {},
   "outputs": [],
   "source": [
    "trained_model = trainer.model\n",
    "trained_model.config.id2label = {\n",
    "    0: \"benign\",\n",
    "    1: \"jailbreak\"\n",
    "}\n",
    "trained_model.config.label2id = {\n",
    "    \"benign\": 0,\n",
    "    \"jailbreak\": 1\n",
    "}"
   ]
  },
  {
   "cell_type": "markdown",
   "metadata": {},
   "source": [
    "#### test_prompts is a list of all test prompts"
   ]
  },
  {
   "cell_type": "code",
   "execution_count": 73,
   "metadata": {},
   "outputs": [],
   "source": [
    "test_prompts = final_dataset[\"test\"][\"text\"]"
   ]
  },
  {
   "cell_type": "markdown",
   "metadata": {},
   "source": [
    "#### The function predict_long_text_with_preprocess processes a list of texts by first preprocessing and tokenizing each text. It splits long texts into chunks (512 tokens with 100 tokens overlap), classifies each chunk using a model, and checks if any chunk is classified as \"jailbreak.\" The final classification for each text is determined by whether any chunk contains \"jailbreak\". The overlapping happens to maintain the connection between the different parts of the text. It then returns a list of predictions (\"jailbreak\" or \"benign\") for each text. The model is run on the available device (MPS or CPU)."
   ]
  },
  {
   "cell_type": "markdown",
   "metadata": {},
   "source": [
    "![Sliding Window Overlapping](images/sliding_window_overlaping.png)\n",
    "\n",
    "\n",
    "\n",
    "\n",
    "\n"
   ]
  },
  {
   "cell_type": "code",
   "execution_count": 74,
   "metadata": {},
   "outputs": [],
   "source": [
    "device = torch.device(\"mps\") if torch.backends.mps.is_available() else torch.device(\"cpu\")\n",
    "model.to(device)\n",
    "\n",
    "def predict_long_text_with_preprocess(texts, model, tokenizer):\n",
    "    predictions = []\n",
    "    \n",
    "    for text in texts:\n",
    "        # Preprocess and tokenize the text into chunks\n",
    "        text = preprocess_text(text)\n",
    "        inputs = tokenizer(text, return_tensors=\"pt\", truncation=False)\n",
    "        input_ids = inputs[\"input_ids\"].squeeze()\n",
    "\n",
    "        # Define chunk size and overlap\n",
    "        chunk_size = 512\n",
    "        overlap_size = 100\n",
    "\n",
    "        # Create chunks with overlap\n",
    "        chunks = []\n",
    "        for i in range(0, len(input_ids), chunk_size - overlap_size):\n",
    "            chunk = input_ids[i:i + chunk_size]\n",
    "            chunks.append(chunk)\n",
    "\n",
    "        # Flag to track if any chunk is classified as \"jailbreak\"\n",
    "        contains_jailbreak = False\n",
    "        for chunk in chunks:\n",
    "            chunk = chunk.unsqueeze(0).to(device)  # Move chunk to the correct device (MPS or CPU)\n",
    "\n",
    "            # Predict on the chunk\n",
    "            with torch.no_grad():\n",
    "                outputs = model(chunk)\n",
    "                logits = outputs.logits\n",
    "                prediction = torch.argmax(logits, dim=1).item()\n",
    "\n",
    "                # Check if this chunk is classified as \"jailbreak\"\n",
    "                if model.config.id2label[prediction] == \"jailbreak\":\n",
    "                    contains_jailbreak = True\n",
    "                    break  # Stop further checks if \"jailbreak\" is detected\n",
    "\n",
    "        # Final decision based on whether any chunk was classified as \"jailbreak\"\n",
    "        final_prediction = \"jailbreak\" if contains_jailbreak else \"benign\"\n",
    "        predictions.append(final_prediction)\n",
    "    \n",
    "    return predictions\n"
   ]
  },
  {
   "cell_type": "markdown",
   "metadata": {},
   "source": [
    "#### Make y_test"
   ]
  },
  {
   "cell_type": "code",
   "execution_count": 75,
   "metadata": {},
   "outputs": [],
   "source": [
    "y_test = final_dataset[\"test\"][\"labels\"]"
   ]
  },
  {
   "cell_type": "markdown",
   "metadata": {},
   "source": [
    "#### Predict on the test set"
   ]
  },
  {
   "cell_type": "code",
   "execution_count": 76,
   "metadata": {},
   "outputs": [],
   "source": [
    "# lets do on test set\n",
    "y_pred = predict_long_text_with_preprocess(test_prompts, trained_model, tokenizer)\n",
    "y_pred = [0 if x == \"benign\" else 1 for x in y_pred]"
   ]
  },
  {
   "cell_type": "markdown",
   "metadata": {},
   "source": [
    "#### Show metrics"
   ]
  },
  {
   "cell_type": "code",
   "execution_count": 77,
   "metadata": {},
   "outputs": [
    {
     "name": "stdout",
     "output_type": "stream",
     "text": [
      "F1 Score: 0.9753\n",
      "Accuracy: 0.9733\n",
      "Recall: 0.9928\n",
      "Precision: 0.9583\n"
     ]
    }
   ],
   "source": [
    "# Move y_pred to CPU and convert to NumPy\n",
    "y_pred_cpu = y_pred.cpu().numpy() if isinstance(y_pred, torch.Tensor) else np.array(y_pred)\n",
    "\n",
    "# Calculate metrics\n",
    "_f1_score = f1_score(y_test, y_pred_cpu)\n",
    "_accuracy = accuracy_score(y_test, y_pred_cpu)\n",
    "_recall = recall_score(y_test, y_pred_cpu)\n",
    "_precision = precision_score(y_test, y_pred_cpu)\n",
    "\n",
    "# Print results\n",
    "print(f\"F1 Score: {_f1_score:.4f}\")\n",
    "print(f\"Accuracy: {_accuracy:.4f}\")\n",
    "print(f\"Recall: {_recall:.4f}\")\n",
    "print(f\"Precision: {_precision:.4f}\")"
   ]
  },
  {
   "cell_type": "markdown",
   "metadata": {},
   "source": [
    "#### Show confusion matrix"
   ]
  },
  {
   "cell_type": "code",
   "execution_count": 78,
   "metadata": {},
   "outputs": [
    {
     "data": {
      "image/png": "[encoded data removed]",
      "text/plain": [
       "<Figure size 800x600 with 2 Axes>"
      ]
     },
     "metadata": {},
     "output_type": "display_data"
    }
   ],
   "source": [
    "def plot_confusion_matrix(y_true, y_pred, labels):\n",
    "    cm = confusion_matrix(y_true, y_pred)\n",
    "    plt.figure(figsize=(8, 6))\n",
    "    sns.heatmap(cm, annot=True, fmt='d', cmap='Blues', xticklabels=labels, yticklabels=labels)\n",
    "    plt.xlabel('Predicted labels')\n",
    "    plt.ylabel('True labels')\n",
    "    plt.title('Confusion Matrix')\n",
    "    plt.show()\n",
    "\n",
    "plot_confusion_matrix(y_test, y_pred_cpu, labels=['benign', 'jailbreak'])"
   ]
  },
  {
   "cell_type": "markdown",
   "metadata": {},
   "source": [
    "#### Make test_df"
   ]
  },
  {
   "cell_type": "code",
   "execution_count": 79,
   "metadata": {},
   "outputs": [],
   "source": [
    "test_df = final_dataset[\"test\"].to_pandas()"
   ]
  },
  {
   "cell_type": "markdown",
   "metadata": {},
   "source": [
    "#### Make ten_longest_prompt_from_test_bengin and ten_longest_prompt_from_test_jailbreak"
   ]
  },
  {
   "cell_type": "code",
   "execution_count": 80,
   "metadata": {},
   "outputs": [],
   "source": [
    "ten_longest_prompt_from_test_bengin = test_df[test_df[\"labels\"] == 0].sort_values(\"text\", key=lambda x: x.str.len(), ascending=False).head(10)['text'].values\n",
    "ten_longest_prompt_from_test_jailbreak = test_df[test_df[\"labels\"] == 1].sort_values(\"text\", key=lambda x: x.str.len(), ascending=False).head(10)['text'].values"
   ]
  },
  {
   "cell_type": "markdown",
   "metadata": {},
   "source": [
    "#### Predict them:"
   ]
  },
  {
   "cell_type": "code",
   "execution_count": 81,
   "metadata": {},
   "outputs": [
    {
     "data": {
      "text/plain": [
       "['benign',\n",
       " 'benign',\n",
       " 'benign',\n",
       " 'benign',\n",
       " 'benign',\n",
       " 'benign',\n",
       " 'benign',\n",
       " 'benign',\n",
       " 'benign',\n",
       " 'benign']"
      ]
     },
     "execution_count": 81,
     "metadata": {},
     "output_type": "execute_result"
    }
   ],
   "source": [
    "predict_long_text_with_preprocess(ten_longest_prompt_from_test_bengin, trained_model, tokenizer)"
   ]
  },
  {
   "cell_type": "code",
   "execution_count": 82,
   "metadata": {},
   "outputs": [
    {
     "data": {
      "text/plain": [
       "['jailbreak',\n",
       " 'jailbreak',\n",
       " 'jailbreak',\n",
       " 'jailbreak',\n",
       " 'jailbreak',\n",
       " 'jailbreak',\n",
       " 'jailbreak',\n",
       " 'jailbreak',\n",
       " 'jailbreak',\n",
       " 'jailbreak']"
      ]
     },
     "execution_count": 82,
     "metadata": {},
     "output_type": "execute_result"
    }
   ],
   "source": [
    "predict_long_text_with_preprocess(ten_longest_prompt_from_test_jailbreak, trained_model, tokenizer)"
   ]
  },
  {
   "cell_type": "markdown",
   "metadata": {},
   "source": [
    "#### Upload model, tokenizer and preprocessing.py to huggingface hub"
   ]
  },
  {
   "cell_type": "code",
   "execution_count": 83,
   "metadata": {},
   "outputs": [
    {
     "name": "stdout",
     "output_type": "stream",
     "text": [
      "Pushing to Hugging Face Hub\n"
     ]
    },
    {
     "name": "stderr",
     "output_type": "stream",
     "text": [
      "Note: Environment variable`HF_TOKEN` is set and is the current active token independently from the token you've just configured.\n",
      "No files have been modified since last commit. Skipping to prevent empty commit.\n",
      "model.safetensors: 100%|██████████| 438M/438M [00:50<00:00, 8.71MB/s] \n",
      "No files have been modified since last commit. Skipping to prevent empty commit.\n"
     ]
    },
    {
     "name": "stdout",
     "output_type": "stream",
     "text": [
      "Files pushed to Hugging Face Hub successfully.\n"
     ]
    }
   ],
   "source": [
    "# Load environment variables (ensure HF_TOKEN is in your .env file)\n",
    "load_dotenv()\n",
    "from huggingface_hub import upload_file\n",
    "\n",
    "# Check if the HF_TOKEN is present and log in\n",
    "if 'HF_TOKEN' in os.environ:\n",
    "    print(\"Pushing to Hugging Face Hub\")\n",
    "    HF_TOKEN = os.getenv(\"HF_TOKEN\")\n",
    "    login(token=HF_TOKEN)\n",
    "\n",
    "    # Path to your local preprocessing.py\n",
    "    local_file = \"preprocessing.py\"\n",
    "    model_name = \"oranne55/qualifier-model4-finetune-pretrained-transformer-for-long-inputs\"\n",
    "\n",
    "    # Push to the existing repo\n",
    "    upload_file(\n",
    "    path_or_fileobj=local_file,\n",
    "    path_in_repo=local_file,  # Ensure the correct path in the repository\n",
    "    repo_id=model_name,  # Your repo ID\n",
    "    token=HF_TOKEN  # Make sure the token has push rights to the repo\n",
    ")\n",
    "\n",
    "\n",
    "    # Upload model and tokenizer to the hub\n",
    "    trained_model.push_to_hub(model_name)\n",
    "    tokenizer.push_to_hub(model_name)\n",
    "\n",
    "\n",
    "\n",
    "    # Now push preprocessing.py to Hugging Face Hub\n",
    "\n",
    "\n",
    "    print(\"Files pushed to Hugging Face Hub successfully.\")"
   ]
  }
 ],
 "metadata": {
  "kernelspec": {
   "display_name": "qualifier-env",
   "language": "python",
   "name": "python3"
  },
  "language_info": {
   "codemirror_mode": {
    "name": "ipython",
    "version": 3
   },
   "file_extension": ".py",
   "mimetype": "text/x-python",
   "name": "python",
   "nbconvert_exporter": "python",
   "pygments_lexer": "ipython3",
   "version": "3.10.15"
  }
 },
 "nbformat": 4,
 "nbformat_minor": 2
}
