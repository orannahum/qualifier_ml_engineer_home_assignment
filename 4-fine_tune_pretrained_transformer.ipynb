{
 "cells": [
  {
   "cell_type": "code",
   "execution_count": 16,
   "metadata": {},
   "outputs": [],
   "source": [
    "from transformers import BertForSequenceClassification, BertTokenizer, Trainer, TrainingArguments\n",
    "from datasets import load_dataset\n",
    "from huggingface_hub import login\n",
    "import os\n",
    "from dotenv import load_dotenv\n",
    "from sklearn.metrics import f1_score, recall_score, precision_score, accuracy_score\n",
    "\n"
   ]
  },
  {
   "cell_type": "code",
   "execution_count": 2,
   "metadata": {},
   "outputs": [],
   "source": [
    "dataset = load_dataset(\"jackhhao/jailbreak-classification\")\n",
    "# rename prompt to text and label to label\n",
    "dataset = dataset.rename_column(\"prompt\", \"text\")\n",
    "dataset = dataset.rename_column(\"type\", \"labels\")\n",
    "\n",
    "def label_mapping(example):\n",
    "    example[\"labels\"] = 0 if example[\"labels\"] == \"benign\" else 1\n",
    "    return example\n",
    "\n",
    "dataset = dataset.map(label_mapping)\n"
   ]
  },
  {
   "cell_type": "code",
   "execution_count": 3,
   "metadata": {},
   "outputs": [
    {
     "name": "stderr",
     "output_type": "stream",
     "text": [
      "Some weights of BertForSequenceClassification were not initialized from the model checkpoint at bert-base-uncased and are newly initialized: ['classifier.bias', 'classifier.weight']\n",
      "You should probably TRAIN this model on a down-stream task to be able to use it for predictions and inference.\n"
     ]
    }
   ],
   "source": [
    "\n",
    "tokenizer = BertTokenizer.from_pretrained(\"bert-base-uncased\")\n",
    "model = BertForSequenceClassification.from_pretrained(\"bert-base-uncased\", num_labels=2)\n",
    "def tokenize_function(examples):\n",
    "    return tokenizer(examples[\"text\"], padding=\"max_length\", truncation=True)\n",
    "\n",
    "tokenized_datasets = dataset.map(tokenize_function, batched=True)"
   ]
  },
  {
   "cell_type": "code",
   "execution_count": 4,
   "metadata": {},
   "outputs": [
    {
     "name": "stderr",
     "output_type": "stream",
     "text": [
      "/opt/anaconda3/envs/qualifier-env/lib/python3.10/site-packages/transformers/training_args.py:1559: FutureWarning: `evaluation_strategy` is deprecated and will be removed in version 4.46 of 🤗 Transformers. Use `eval_strategy` instead\n",
      "  warnings.warn(\n",
      "                                                 \n",
      " 20%|██        | 131/655 [03:38<12:46,  1.46s/it]"
     ]
    },
    {
     "name": "stdout",
     "output_type": "stream",
     "text": [
      "{'eval_loss': 0.08117879927158356, 'eval_runtime': 13.7218, 'eval_samples_per_second': 19.094, 'eval_steps_per_second': 2.405, 'epoch': 1.0}\n"
     ]
    },
    {
     "name": "stderr",
     "output_type": "stream",
     "text": [
      "                                                 \n",
      " 40%|████      | 262/655 [06:51<07:43,  1.18s/it]"
     ]
    },
    {
     "name": "stdout",
     "output_type": "stream",
     "text": [
      "{'eval_loss': 0.01894414983689785, 'eval_runtime': 11.7107, 'eval_samples_per_second': 22.373, 'eval_steps_per_second': 2.818, 'epoch': 2.0}\n"
     ]
    },
    {
     "name": "stderr",
     "output_type": "stream",
     "text": [
      "                                                 \n",
      " 60%|██████    | 393/655 [09:59<05:12,  1.19s/it]"
     ]
    },
    {
     "name": "stdout",
     "output_type": "stream",
     "text": [
      "{'eval_loss': 0.04414881020784378, 'eval_runtime': 11.6701, 'eval_samples_per_second': 22.451, 'eval_steps_per_second': 2.828, 'epoch': 3.0}\n"
     ]
    },
    {
     "name": "stderr",
     "output_type": "stream",
     "text": [
      " 76%|███████▋  | 500/655 [12:23<03:30,  1.36s/it]"
     ]
    },
    {
     "name": "stdout",
     "output_type": "stream",
     "text": [
      "{'loss': 0.0589, 'grad_norm': 0.003450758522376418, 'learning_rate': 1.1832061068702292e-05, 'epoch': 3.82}\n"
     ]
    },
    {
     "name": "stderr",
     "output_type": "stream",
     "text": [
      "                                                 \n",
      " 80%|████████  | 524/655 [13:07<02:36,  1.20s/it]"
     ]
    },
    {
     "name": "stdout",
     "output_type": "stream",
     "text": [
      "{'eval_loss': 0.05739410221576691, 'eval_runtime': 11.7211, 'eval_samples_per_second': 22.353, 'eval_steps_per_second': 2.815, 'epoch': 4.0}\n"
     ]
    },
    {
     "name": "stderr",
     "output_type": "stream",
     "text": [
      "                                                 \n",
      "100%|██████████| 655/655 [16:15<00:00,  1.49s/it]\n"
     ]
    },
    {
     "name": "stdout",
     "output_type": "stream",
     "text": [
      "{'eval_loss': 0.03022134117782116, 'eval_runtime': 11.6859, 'eval_samples_per_second': 22.42, 'eval_steps_per_second': 2.824, 'epoch': 5.0}\n",
      "{'train_runtime': 975.4478, 'train_samples_per_second': 5.351, 'train_steps_per_second': 0.671, 'train_loss': 0.04502429529057659, 'epoch': 5.0}\n"
     ]
    },
    {
     "name": "stderr",
     "output_type": "stream",
     "text": [
      "100%|██████████| 33/33 [00:11<00:00,  2.84it/s]\n"
     ]
    },
    {
     "data": {
      "text/plain": [
       "{'eval_loss': 0.03022134117782116,\n",
       " 'eval_runtime': 11.6856,\n",
       " 'eval_samples_per_second': 22.421,\n",
       " 'eval_steps_per_second': 2.824,\n",
       " 'epoch': 5.0}"
      ]
     },
     "execution_count": 4,
     "metadata": {},
     "output_type": "execute_result"
    }
   ],
   "source": [
    "# i take this params from : https://huggingface.co/jackhhao/jailbreak-classifier\n",
    "training_args = TrainingArguments(\n",
    "    output_dir=\"./results\",\n",
    "    evaluation_strategy=\"epoch\",\n",
    "    learning_rate=5e-5,\n",
    "    per_device_train_batch_size=8,\n",
    "    per_device_eval_batch_size=8,\n",
    "    num_train_epochs=5, # need to be changed to 5\n",
    "    lr_scheduler_type=\"linear\",\n",
    "   # logging_dir=\"./logs\",\n",
    "    save_strategy=\"no\",\n",
    ")\n",
    "trainer = Trainer(\n",
    "    model=model,\n",
    "    args=training_args,\n",
    "    train_dataset=tokenized_datasets[\"train\"],\n",
    "    eval_dataset=tokenized_datasets[\"test\"],\n",
    "    # compute_metrics=lambda pred: {\n",
    "    #     \"accuracy\": accuracy_score(tokenized_datasets[\"test\"][\"labels\"], pred.predictions.argmax(axis=1)),\n",
    "    #     \"f1\": f1_score(tokenized_datasets[\"test\"][\"labels\"], pred.predictions.argmax(axis=1)),\n",
    "    #     \"recall\": recall_score(tokenized_datasets[\"test\"][\"labels\"], pred.predictions.argmax(axis=1)),\n",
    "    #     \"precision\": precision_score(tokenized_datasets[\"test\"][\"labels\"], pred.predictions.argmax(axis=1))\n",
    "    # },\n",
    ")\n",
    "trainer.train()\n",
    "trainer.evaluate()"
   ]
  },
  {
   "cell_type": "code",
   "execution_count": null,
   "metadata": {},
   "outputs": [],
   "source": []
  },
  {
   "cell_type": "code",
   "execution_count": 20,
   "metadata": {},
   "outputs": [],
   "source": [
    "model = trainer.model"
   ]
  },
  {
   "cell_type": "code",
   "execution_count": 23,
   "metadata": {},
   "outputs": [
    {
     "data": {
      "text/plain": [
       "BertForSequenceClassification(\n",
       "  (bert): BertModel(\n",
       "    (embeddings): BertEmbeddings(\n",
       "      (word_embeddings): Embedding(30522, 768, padding_idx=0)\n",
       "      (position_embeddings): Embedding(512, 768)\n",
       "      (token_type_embeddings): Embedding(2, 768)\n",
       "      (LayerNorm): LayerNorm((768,), eps=1e-12, elementwise_affine=True)\n",
       "      (dropout): Dropout(p=0.1, inplace=False)\n",
       "    )\n",
       "    (encoder): BertEncoder(\n",
       "      (layer): ModuleList(\n",
       "        (0-11): 12 x BertLayer(\n",
       "          (attention): BertAttention(\n",
       "            (self): BertSdpaSelfAttention(\n",
       "              (query): Linear(in_features=768, out_features=768, bias=True)\n",
       "              (key): Linear(in_features=768, out_features=768, bias=True)\n",
       "              (value): Linear(in_features=768, out_features=768, bias=True)\n",
       "              (dropout): Dropout(p=0.1, inplace=False)\n",
       "            )\n",
       "            (output): BertSelfOutput(\n",
       "              (dense): Linear(in_features=768, out_features=768, bias=True)\n",
       "              (LayerNorm): LayerNorm((768,), eps=1e-12, elementwise_affine=True)\n",
       "              (dropout): Dropout(p=0.1, inplace=False)\n",
       "            )\n",
       "          )\n",
       "          (intermediate): BertIntermediate(\n",
       "            (dense): Linear(in_features=768, out_features=3072, bias=True)\n",
       "            (intermediate_act_fn): GELUActivation()\n",
       "          )\n",
       "          (output): BertOutput(\n",
       "            (dense): Linear(in_features=3072, out_features=768, bias=True)\n",
       "            (LayerNorm): LayerNorm((768,), eps=1e-12, elementwise_affine=True)\n",
       "            (dropout): Dropout(p=0.1, inplace=False)\n",
       "          )\n",
       "        )\n",
       "      )\n",
       "    )\n",
       "    (pooler): BertPooler(\n",
       "      (dense): Linear(in_features=768, out_features=768, bias=True)\n",
       "      (activation): Tanh()\n",
       "    )\n",
       "  )\n",
       "  (dropout): Dropout(p=0.1, inplace=False)\n",
       "  (classifier): Linear(in_features=768, out_features=2, bias=True)\n",
       ")"
      ]
     },
     "execution_count": 23,
     "metadata": {},
     "output_type": "execute_result"
    }
   ],
   "source": [
    "model.eval()"
   ]
  },
  {
   "cell_type": "code",
   "execution_count": 28,
   "metadata": {},
   "outputs": [],
   "source": [
    "import torch\n",
    "# Check if MPS is available and set the device\n",
    "device = torch.device(\"mps\" if torch.backends.mps.is_available() else \"cpu\")\n",
    "\n",
    "# Move the model to the MPS device\n",
    "model.to(device)\n",
    "\n",
    "# Ensure model is in evaluation mode\n",
    "model.eval()\n",
    "\n",
    "# Prepare the test dataset (tokenized inputs and attention mask)\n",
    "X_test = tokenized_datasets[\"test\"][\"input_ids\"]\n",
    "attention_mask = tokenized_datasets[\"test\"][\"attention_mask\"]\n",
    "\n",
    "# Convert input IDs and attention mask to tensors and move to device\n",
    "input_ids_tensor = torch.tensor(X_test).to(device)\n",
    "attention_mask_tensor = torch.tensor(attention_mask).to(device)\n",
    "\n",
    "# Make predictions\n",
    "with torch.no_grad():  # Disable gradient calculation for predictions\n",
    "    outputs = model(input_ids_tensor, attention_mask=attention_mask_tensor)\n",
    "    logits = outputs.logits  # Get the logits from the output\n",
    "\n",
    "# Convert logits to probabilities using softmax\n",
    "probabilities = torch.nn.functional.softmax(logits, dim=-1)\n",
    "\n",
    "# Get predicted class indices\n",
    "y_pred = probabilities.argmax(dim=1)\n",
    "\n",
    "# Get confidence scores (max probabilities)\n",
    "confidence_scores = probabilities.max(dim=1).values\n",
    "y_test = tokenized_datasets[\"test\"][\"labels\"]\n"
   ]
  },
  {
   "cell_type": "code",
   "execution_count": 31,
   "metadata": {},
   "outputs": [
    {
     "name": "stdout",
     "output_type": "stream",
     "text": [
      "F1 Score: 0.9964\n",
      "Accuracy: 0.9962\n",
      "Recall: 0.9928\n",
      "Precision: 1.0000\n"
     ]
    }
   ],
   "source": [
    "import numpy as np\n",
    "y_test = y_test.cpu().numpy() if isinstance(y_test, torch.Tensor) else np.array(y_test)\n",
    "\n",
    "# Move y_pred to CPU and convert to NumPy\n",
    "y_pred_cpu = y_pred.cpu().numpy() if isinstance(y_pred, torch.Tensor) else np.array(y_pred)\n",
    "\n",
    "# Calculate metrics\n",
    "_f1_score = f1_score(y_test, y_pred_cpu)\n",
    "_accuracy = accuracy_score(y_test, y_pred_cpu)\n",
    "_recall = recall_score(y_test, y_pred_cpu)\n",
    "_precision = precision_score(y_test, y_pred_cpu)\n",
    "\n",
    "# Print results\n",
    "print(f\"F1 Score: {_f1_score:.4f}\")\n",
    "print(f\"Accuracy: {_accuracy:.4f}\")\n",
    "print(f\"Recall: {_recall:.4f}\")\n",
    "print(f\"Precision: {_precision:.4f}\")"
   ]
  },
  {
   "cell_type": "code",
   "execution_count": 35,
   "metadata": {},
   "outputs": [
    {
     "data": {
      "text/plain": [
       "Value(dtype='int64', id=None)"
      ]
     },
     "execution_count": 35,
     "metadata": {},
     "output_type": "execute_result"
    }
   ],
   "source": [
    "tokenized_datasets[\"train\"].features[\"labels\"]"
   ]
  },
  {
   "cell_type": "code",
   "execution_count": 36,
   "metadata": {},
   "outputs": [
    {
     "data": {
      "image/png": "[encoded data removed]",
      "text/plain": [
       "<Figure size 800x600 with 2 Axes>"
      ]
     },
     "metadata": {},
     "output_type": "display_data"
    }
   ],
   "source": [
    "from sklearn.metrics import confusion_matrix\n",
    "import seaborn as sns\n",
    "import matplotlib.pyplot as plt\n",
    "\n",
    "def plot_confusion_matrix(y_true, y_pred, labels):\n",
    "    cm = confusion_matrix(y_true, y_pred)\n",
    "    plt.figure(figsize=(8, 6))\n",
    "    sns.heatmap(cm, annot=True, fmt='d', cmap='Blues', xticklabels=labels, yticklabels=labels)\n",
    "    plt.xlabel('Predicted labels')\n",
    "    plt.ylabel('True labels')\n",
    "    plt.title('Confusion Matrix')\n",
    "    plt.show()\n",
    "\n",
    "\n",
    "\n",
    "# Plot the confusion matrix\n",
    "plot_confusion_matrix(y_test, y_pred_cpu, labels=['benign', 'jailbreak'])\n"
   ]
  },
  {
   "cell_type": "code",
   "execution_count": 11,
   "metadata": {},
   "outputs": [
    {
     "data": {
      "text/plain": [
       "array([4.8707523, 4.905482 , 2.9927146, 4.8796144, 5.1712136, 4.806562 ,\n",
       "       4.787334 , 5.165216 , 4.6440454, 5.083199 , 5.183394 , 5.1865544,\n",
       "       4.4222207, 5.171678 , 5.164742 , 4.851861 , 4.8452945, 5.17391  ,\n",
       "       5.181354 , 4.79956  , 5.1443954, 5.096398 , 4.684867 , 4.8008413,\n",
       "       5.1194124, 4.876776 , 5.1519737, 2.4450216, 4.7228456, 4.861794 ,\n",
       "       5.167191 , 5.182709 , 5.18575  , 4.8050113, 5.121348 , 5.1663365,\n",
       "       5.169514 , 5.162043 , 4.79931  , 4.7679353, 4.574017 , 4.8338294,\n",
       "       4.615678 , 5.1596875, 5.108792 , 5.1753154, 5.1797223, 4.4625425,\n",
       "       5.169557 , 4.788056 , 5.0899343, 5.146461 , 4.5040193, 4.057355 ,\n",
       "       5.1804633, 5.17394  , 4.2604604, 4.8441305, 4.171915 , 5.1812367,\n",
       "       4.7051725, 5.148735 , 4.8610587, 5.1383414, 5.030646 , 5.162043 ,\n",
       "       5.1752   , 3.8808422, 3.8639603, 4.6371427, 4.8713326, 5.0048203,\n",
       "       4.883825 , 4.71369  , 5.1102605, 5.195726 , 4.815122 , 5.087173 ,\n",
       "       5.103885 , 4.723082 , 4.8449244, 4.717871 , 4.708901 , 5.1763625,\n",
       "       5.1598935, 4.7183766, 5.1694956, 4.7589107, 5.0838456, 5.147516 ,\n",
       "       4.5207334, 5.0465016, 4.5459595, 4.773591 , 5.170216 , 4.7887564,\n",
       "       4.727937 , 4.6517005, 5.1663966, 4.3930297, 5.127334 , 4.7263465,\n",
       "       4.668037 , 4.616448 , 4.758661 , 4.7839203, 4.686294 , 4.7798233,\n",
       "       5.04044  , 5.1410556, 5.191412 , 4.9106874, 5.1209226, 5.145209 ,\n",
       "       5.1767993, 4.75777  , 5.1832447, 3.818823 , 5.1304355, 5.180209 ,\n",
       "       5.170398 , 4.693214 , 5.068154 , 4.852571 , 5.1346   , 4.8553686,\n",
       "       5.080955 , 5.1192384, 5.1585107, 4.6420884, 5.094753 , 5.147701 ,\n",
       "       4.6836576, 4.8000455, 1.9555092, 4.666744 , 5.1630034, 4.612943 ,\n",
       "       4.6629252, 4.785405 , 5.1474533, 4.8502946, 3.8172915, 4.8470225,\n",
       "       4.857673 , 4.8242927, 5.1600986, 5.143669 , 4.7806244, 5.183106 ,\n",
       "       4.798679 , 5.1698427, 5.185097 , 5.151608 , 5.168884 , 4.8835297,\n",
       "       4.779367 , 4.633511 , 4.797526 , 5.168884 , 5.143806 , 5.1685653,\n",
       "       4.076649 , 5.077928 , 4.7869687, 4.325044 , 4.7231126, 4.7406487,\n",
       "       5.153994 , 4.185724 , 4.7788086, 4.6985235, 4.611581 , 5.185293 ,\n",
       "       4.86409  , 3.7092378, 4.7399063, 5.165072 , 4.7655253, 4.8330946,\n",
       "       4.8873963, 4.8075724, 5.1724925, 5.1823373, 5.138231 , 4.7196746,\n",
       "       4.725881 , 5.03029  , 5.163003 , 4.8580585, 4.7322755, 5.191808 ,\n",
       "       4.7294993, 4.774667 , 5.193709 , 4.9002414, 4.823602 , 4.8548474,\n",
       "       4.4321904, 4.806289 , 4.6386313, 4.7910266, 5.1707788, 4.640019 ,\n",
       "       4.543189 , 4.628346 , 5.1474433, 4.95439  , 4.594171 , 5.034081 ,\n",
       "       3.3139117, 4.391915 , 4.896413 , 5.182066 , 4.6017375, 5.1034822,\n",
       "       4.1374383, 4.872167 , 4.718678 , 5.1647277, 2.5313008, 5.155042 ,\n",
       "       4.3045535, 4.302425 , 5.162951 , 4.8014045, 5.1716785, 4.686339 ,\n",
       "       5.1620736, 5.1260586, 2.44676  , 5.1103225, 4.706684 , 4.7628665,\n",
       "       4.809736 , 5.187148 , 5.1636443, 4.69896  , 5.1719394, 4.6638503,\n",
       "       5.16509  , 5.166227 , 5.024978 , 5.1346   , 5.1614   , 5.1678977,\n",
       "       5.134385 , 4.929417 , 4.3084197, 5.161715 , 4.665873 , 4.9026237,\n",
       "       4.8487983, 4.881471 , 5.168277 , 5.1215973, 5.1676965, 4.716781 ,\n",
       "       5.1890016, 5.174312 , 5.1616225, 5.19531  ], dtype=float32)"
      ]
     },
     "execution_count": 11,
     "metadata": {},
     "output_type": "execute_result"
    }
   ],
   "source": [
    "confidence_scores"
   ]
  },
  {
   "cell_type": "code",
   "execution_count": null,
   "metadata": {},
   "outputs": [],
   "source": [
    "# need show results .. with confussion matrix and other metrics\n",
    "# need to save model\n",
    "y_probs = trainer.model.predict(X_test).ravel()\n",
    "y_pred = (y_probs > 0.5).astype(int)\n",
    "_f1_score = f1_score(y_test, y_pred)\n",
    "_accuracy = accuracy_score(y_test, y_pred)\n",
    "_recall = recall_score(y_test, y_pred)\n",
    "_precision = precision_score(y_test, y_pred)\n",
    "print(f\"F1 Score: {_f1_score}\")\n",
    "print(f\"Accuracy: {_accuracy}\")\n",
    "print(f\"Recall: {_recall}\")\n",
    "print(f\"Precision: {_precision}\")"
   ]
  },
  {
   "cell_type": "code",
   "execution_count": 37,
   "metadata": {},
   "outputs": [
    {
     "name": "stdout",
     "output_type": "stream",
     "text": [
      "pushing to huggingface hub\n"
     ]
    },
    {
     "name": "stderr",
     "output_type": "stream",
     "text": [
      "Note: Environment variable`HF_TOKEN` is set and is the current active token independently from the token you've just configured.\n",
      "model.safetensors: 100%|██████████| 438M/438M [00:49<00:00, 8.89MB/s] \n"
     ]
    }
   ],
   "source": [
    "load_dotenv()\n",
    "if 'HF_TOKEN' in os.environ:\n",
    "    print(\"pushing to huggingface hub\")\n",
    "    HF_TOKEN = os.getenv(\"HF_TOKEN\")\n",
    "    login(token=HF_TOKEN)  \n",
    "    model.push_to_hub(\"oranne55/qualifier-model3-finetune-pretrained-transformer\")\n",
    "    tokenizer.push_to_hub(\"oranne55/qualifier-model3-finetune-pretrained-transformer\")"
   ]
  },
  {
   "cell_type": "code",
   "execution_count": null,
   "metadata": {},
   "outputs": [],
   "source": []
  }
 ],
 "metadata": {
  "kernelspec": {
   "display_name": "qualifier-env",
   "language": "python",
   "name": "python3"
  },
  "language_info": {
   "codemirror_mode": {
    "name": "ipython",
    "version": 3
   },
   "file_extension": ".py",
   "mimetype": "text/x-python",
   "name": "python",
   "nbconvert_exporter": "python",
   "pygments_lexer": "ipython3",
   "version": "3.10.15"
  }
 },
 "nbformat": 4,
 "nbformat_minor": 2
}
