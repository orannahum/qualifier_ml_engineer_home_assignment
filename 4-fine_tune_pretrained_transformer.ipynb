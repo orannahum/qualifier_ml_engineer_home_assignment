{
 "cells": [
  {
   "cell_type": "code",
   "execution_count": 21,
   "metadata": {},
   "outputs": [],
   "source": [
    "from transformers import BertForSequenceClassification, BertTokenizer, Trainer, TrainingArguments\n",
    "from datasets import load_dataset\n",
    "from huggingface_hub import login\n",
    "import os\n",
    "from dotenv import load_dotenv\n",
    "from sklearn.metrics import f1_score, recall_score, precision_score, accuracy_score\n",
    "from datasets import DatasetDict, concatenate_datasets\n",
    "import torch\n",
    "import numpy as np\n",
    "from sklearn.metrics import confusion_matrix\n",
    "import seaborn as sns\n",
    "import matplotlib.pyplot as plt\n",
    "\n"
   ]
  },
  {
   "cell_type": "code",
   "execution_count": 2,
   "metadata": {},
   "outputs": [],
   "source": [
    "dataset = load_dataset(\"jackhhao/jailbreak-classification\")\n",
    "# rename prompt to text and label to label\n",
    "dataset = dataset.rename_column(\"prompt\", \"text\")\n",
    "dataset = dataset.rename_column(\"type\", \"labels\")\n",
    "\n",
    "def label_mapping(example):\n",
    "    example[\"labels\"] = 0 if example[\"labels\"] == \"benign\" else 1\n",
    "    return example\n",
    "\n",
    "dataset = dataset.map(label_mapping)\n"
   ]
  },
  {
   "cell_type": "code",
   "execution_count": 3,
   "metadata": {},
   "outputs": [
    {
     "name": "stderr",
     "output_type": "stream",
     "text": [
      "Some weights of BertForSequenceClassification were not initialized from the model checkpoint at bert-base-uncased and are newly initialized: ['classifier.bias', 'classifier.weight']\n",
      "You should probably TRAIN this model on a down-stream task to be able to use it for predictions and inference.\n"
     ]
    }
   ],
   "source": [
    "\n",
    "tokenizer = BertTokenizer.from_pretrained(\"bert-base-uncased\")\n",
    "model = BertForSequenceClassification.from_pretrained(\"bert-base-uncased\", num_labels=2)\n",
    "def tokenize_function(examples):\n",
    "    return tokenizer(examples[\"text\"], padding=\"max_length\", truncation=True)\n",
    "\n",
    "tokenized_datasets = dataset.map(tokenize_function, batched=True)"
   ]
  },
  {
   "cell_type": "code",
   "execution_count": 4,
   "metadata": {},
   "outputs": [],
   "source": [
    "from datasets import DatasetDict\n",
    "\n",
    "# Split the training set into 80% train and 20% validation\n",
    "# shuffle train \n",
    "\n",
    "from sklearn.model_selection import train_test_split\n",
    "\n",
    "train_test_split = tokenized_datasets['train'].train_test_split(test_size=0.2, stratify_by_column='label', random_state=42)\n",
    "\n",
    "# Combine the new splits into a DatasetDict\n",
    "final_dataset = DatasetDict({\n",
    "    'train': train_test_split['train'],\n",
    "    'val': train_test_split['test'],\n",
    "    'test': tokenized_datasets['test']\n",
    "})"
   ]
  },
  {
   "cell_type": "code",
   "execution_count": 5,
   "metadata": {},
   "outputs": [
    {
     "name": "stderr",
     "output_type": "stream",
     "text": [
      "/opt/anaconda3/envs/qualifier-env/lib/python3.10/site-packages/transformers/training_args.py:1559: FutureWarning: `evaluation_strategy` is deprecated and will be removed in version 4.46 of 🤗 Transformers. Use `eval_strategy` instead\n",
      "  warnings.warn(\n",
      "                                                 \n",
      " 20%|██        | 105/525 [02:33<09:16,  1.33s/it]"
     ]
    },
    {
     "name": "stdout",
     "output_type": "stream",
     "text": [
      "{'eval_loss': 0.13324245810508728, 'eval_runtime': 10.6331, 'eval_samples_per_second': 19.656, 'eval_steps_per_second': 2.539, 'epoch': 1.0}\n"
     ]
    },
    {
     "name": "stderr",
     "output_type": "stream",
     "text": [
      "                                                 \n",
      " 40%|████      | 210/525 [05:30<06:21,  1.21s/it]"
     ]
    },
    {
     "name": "stdout",
     "output_type": "stream",
     "text": [
      "{'eval_loss': 0.07492302358150482, 'eval_runtime': 10.1002, 'eval_samples_per_second': 20.693, 'eval_steps_per_second': 2.673, 'epoch': 2.0}\n"
     ]
    },
    {
     "name": "stderr",
     "output_type": "stream",
     "text": [
      "                                                 \n",
      " 60%|██████    | 315/525 [08:17<03:57,  1.13s/it]"
     ]
    },
    {
     "name": "stdout",
     "output_type": "stream",
     "text": [
      "{'eval_loss': 0.08100993931293488, 'eval_runtime': 9.2755, 'eval_samples_per_second': 22.532, 'eval_steps_per_second': 2.911, 'epoch': 3.0}\n"
     ]
    },
    {
     "name": "stderr",
     "output_type": "stream",
     "text": [
      "                                                 \n",
      " 80%|████████  | 420/525 [11:06<02:20,  1.34s/it]"
     ]
    },
    {
     "name": "stdout",
     "output_type": "stream",
     "text": [
      "{'eval_loss': 0.12457344681024551, 'eval_runtime': 11.1269, 'eval_samples_per_second': 18.783, 'eval_steps_per_second': 2.427, 'epoch': 4.0}\n"
     ]
    },
    {
     "name": "stderr",
     "output_type": "stream",
     "text": [
      " 95%|█████████▌| 500/525 [12:53<00:33,  1.34s/it]"
     ]
    },
    {
     "name": "stdout",
     "output_type": "stream",
     "text": [
      "{'loss': 0.0611, 'grad_norm': 0.004706718493252993, 'learning_rate': 2.3809523809523808e-06, 'epoch': 4.76}\n"
     ]
    },
    {
     "name": "stderr",
     "output_type": "stream",
     "text": [
      "                                                 \n",
      "100%|██████████| 525/525 [13:36<00:00,  1.55s/it]\n"
     ]
    },
    {
     "name": "stdout",
     "output_type": "stream",
     "text": [
      "{'eval_loss': 0.11419247090816498, 'eval_runtime': 9.2678, 'eval_samples_per_second': 22.551, 'eval_steps_per_second': 2.913, 'epoch': 5.0}\n",
      "{'train_runtime': 816.2722, 'train_samples_per_second': 5.115, 'train_steps_per_second': 0.643, 'train_loss': 0.05821872117441325, 'epoch': 5.0}\n"
     ]
    },
    {
     "name": "stderr",
     "output_type": "stream",
     "text": [
      "100%|██████████| 27/27 [00:09<00:00,  2.93it/s]\n"
     ]
    },
    {
     "data": {
      "text/plain": [
       "{'eval_loss': 0.11419247090816498,\n",
       " 'eval_runtime': 9.2564,\n",
       " 'eval_samples_per_second': 22.579,\n",
       " 'eval_steps_per_second': 2.917,\n",
       " 'epoch': 5.0}"
      ]
     },
     "execution_count": 5,
     "metadata": {},
     "output_type": "execute_result"
    }
   ],
   "source": [
    "# i take this params from : https://huggingface.co/jackhhao/jailbreak-classifier\n",
    "training_args = TrainingArguments(\n",
    "    output_dir=\"./results\",\n",
    "    evaluation_strategy=\"epoch\",\n",
    "    learning_rate=5e-5,\n",
    "    per_device_train_batch_size=8,\n",
    "    per_device_eval_batch_size=8,\n",
    "    num_train_epochs=5, # need to be changed to 5\n",
    "    lr_scheduler_type=\"linear\",\n",
    "   # logging_dir=\"./logs\",\n",
    "    save_strategy=\"no\",\n",
    ")\n",
    "trainer = Trainer(\n",
    "    model=model,\n",
    "    args=training_args,\n",
    "    train_dataset=final_dataset[\"train\"],\n",
    "    eval_dataset=final_dataset[\"val\"],\n",
    "\n",
    ")\n",
    "trainer.train()\n",
    "trainer.evaluate()"
   ]
  },
  {
   "cell_type": "code",
   "execution_count": 13,
   "metadata": {},
   "outputs": [],
   "source": [
    "trained_model = trainer.model"
   ]
  },
  {
   "cell_type": "code",
   "execution_count": 14,
   "metadata": {},
   "outputs": [],
   "source": [
    "# Check if MPS is available and set the device\n",
    "device = torch.device(\"mps\" if torch.backends.mps.is_available() else \"cpu\")\n",
    "\n",
    "# Move the model to the MPS device\n",
    "trained_model.to(device)\n",
    "\n",
    "# Ensure model is in evaluation mode\n",
    "trained_model.eval()\n",
    "\n",
    "# Prepare the test dataset (tokenized inputs and attention mask)\n",
    "X_test = tokenized_datasets[\"test\"][\"input_ids\"]\n",
    "attention_mask = tokenized_datasets[\"test\"][\"attention_mask\"]\n",
    "\n",
    "# Convert input IDs and attention mask to tensors and move to device\n",
    "input_ids_tensor = torch.tensor(X_test).to(device)\n",
    "attention_mask_tensor = torch.tensor(attention_mask).to(device)\n",
    "\n",
    "# Make predictions\n",
    "with torch.no_grad():  # Disable gradient calculation for predictions\n",
    "    outputs = trained_model(input_ids_tensor, attention_mask=attention_mask_tensor)\n",
    "    logits = outputs.logits  # Get the logits from the output\n",
    "\n",
    "# Convert logits to probabilities using softmax\n",
    "probabilities = torch.nn.functional.softmax(logits, dim=-1)\n",
    "\n",
    "# Get predicted class indices\n",
    "y_pred = probabilities.argmax(dim=1)\n",
    "\n",
    "# Get confidence scores (max probabilities)\n",
    "confidence_scores = probabilities.max(dim=1).values\n",
    "y_test = tokenized_datasets[\"test\"][\"labels\"]\n"
   ]
  },
  {
   "cell_type": "code",
   "execution_count": 15,
   "metadata": {},
   "outputs": [
    {
     "name": "stdout",
     "output_type": "stream",
     "text": [
      "F1 Score: 0.9964\n",
      "Accuracy: 0.9962\n",
      "Recall: 0.9928\n",
      "Precision: 1.0000\n"
     ]
    }
   ],
   "source": [
    "y_test = y_test.cpu().numpy() if isinstance(y_test, torch.Tensor) else np.array(y_test)\n",
    "\n",
    "# Move y_pred to CPU and convert to NumPy\n",
    "y_pred_cpu = y_pred.cpu().numpy() if isinstance(y_pred, torch.Tensor) else np.array(y_pred)\n",
    "\n",
    "# Calculate metrics\n",
    "_f1_score = f1_score(y_test, y_pred_cpu)\n",
    "_accuracy = accuracy_score(y_test, y_pred_cpu)\n",
    "_recall = recall_score(y_test, y_pred_cpu)\n",
    "_precision = precision_score(y_test, y_pred_cpu)\n",
    "\n",
    "# Print results\n",
    "print(f\"F1 Score: {_f1_score:.4f}\")\n",
    "print(f\"Accuracy: {_accuracy:.4f}\")\n",
    "print(f\"Recall: {_recall:.4f}\")\n",
    "print(f\"Precision: {_precision:.4f}\")"
   ]
  },
  {
   "cell_type": "code",
   "execution_count": 8,
   "metadata": {},
   "outputs": [
    {
     "data": {
      "text/plain": [
       "Value(dtype='int64', id=None)"
      ]
     },
     "execution_count": 8,
     "metadata": {},
     "output_type": "execute_result"
    }
   ],
   "source": [
    "tokenized_datasets[\"train\"].features[\"labels\"]"
   ]
  },
  {
   "cell_type": "code",
   "execution_count": 16,
   "metadata": {},
   "outputs": [
    {
     "data": {
      "image/png": "[encoded data removed]",
      "text/plain": [
       "<Figure size 800x600 with 2 Axes>"
      ]
     },
     "metadata": {},
     "output_type": "display_data"
    }
   ],
   "source": [
    "\n",
    "\n",
    "def plot_confusion_matrix(y_true, y_pred, labels):\n",
    "    cm = confusion_matrix(y_true, y_pred)\n",
    "    plt.figure(figsize=(8, 6))\n",
    "    sns.heatmap(cm, annot=True, fmt='d', cmap='Blues', xticklabels=labels, yticklabels=labels)\n",
    "    plt.xlabel('Predicted labels')\n",
    "    plt.ylabel('True labels')\n",
    "    plt.title('Confusion Matrix')\n",
    "    plt.show()\n",
    "\n",
    "\n",
    "\n",
    "# Plot the confusion matrix\n",
    "plot_confusion_matrix(y_test, y_pred_cpu, labels=['benign', 'jailbreak'])\n"
   ]
  },
  {
   "cell_type": "markdown",
   "metadata": {},
   "source": [
    "#### now before upload to inference i want concat the train and val to train again and trained the model on train + val and evaluate on test and because the result are very good we set down the epochs to 3 and the learning rate to 1e-5\n"
   ]
  },
  {
   "cell_type": "code",
   "execution_count": 22,
   "metadata": {},
   "outputs": [],
   "source": [
    "\n",
    "# Assuming final_dataset[\"train\"] and final_dataset[\"val\"] are your train and validation datasets\n",
    "train_val_dataset = concatenate_datasets([final_dataset[\"train\"], final_dataset[\"val\"]])\n",
    "\n",
    "# Create the final DatasetDict\n",
    "final_dataset_2 = DatasetDict({\n",
    "    'train': train_val_dataset,\n",
    "    'test': tokenized_datasets['test']\n",
    "})"
   ]
  },
  {
   "cell_type": "code",
   "execution_count": 25,
   "metadata": {},
   "outputs": [
    {
     "name": "stderr",
     "output_type": "stream",
     "text": [
      "/opt/anaconda3/envs/qualifier-env/lib/python3.10/site-packages/transformers/training_args.py:1559: FutureWarning: `evaluation_strategy` is deprecated and will be removed in version 4.46 of 🤗 Transformers. Use `eval_strategy` instead\n",
      "  warnings.warn(\n",
      "\n",
      "\u001b[A\n",
      "\u001b[A\n",
      "\u001b[A\n",
      "\u001b[A\n",
      "\u001b[A\n",
      "\u001b[A\n",
      "\u001b[A\n",
      "\u001b[A\n",
      "\u001b[A\n",
      "\u001b[A\n",
      "\u001b[A\n",
      "\u001b[A\n",
      "\u001b[A\n",
      "\u001b[A\n",
      "\u001b[A\n",
      "\u001b[A\n",
      "\u001b[A\n",
      "\u001b[A\n",
      "\u001b[A\n",
      "\u001b[A\n",
      "\u001b[A\n",
      "\u001b[A\n",
      "\u001b[A\n",
      "\u001b[A\n",
      "\u001b[A\n",
      "\u001b[A\n",
      "\u001b[A\n",
      "\u001b[A\n",
      "\u001b[A\n",
      "\u001b[A\n",
      "\u001b[A\n",
      "\u001b[A\n",
      "                                                \n",
      "\n",
      "\u001b[A\u001b[A                                         \n",
      "  3%|▎         | 13/393 [03:46<08:38,  1.36s/it] \n",
      "\u001b[A\n",
      "\u001b[A"
     ]
    },
    {
     "name": "stdout",
     "output_type": "stream",
     "text": [
      "{'eval_loss': 0.0426008515059948, 'eval_runtime': 11.826, 'eval_samples_per_second': 22.155, 'eval_steps_per_second': 2.79, 'epoch': 1.0}\n"
     ]
    },
    {
     "name": "stderr",
     "output_type": "stream",
     "text": [
      "\n",
      "\u001b[A\n",
      "\u001b[A\n",
      "\u001b[A\n",
      "\u001b[A\n",
      "\u001b[A\n",
      "\u001b[A\n",
      "\u001b[A\n",
      "\u001b[A\n",
      "\u001b[A\n",
      "\u001b[A\n",
      "\u001b[A\n",
      "\u001b[A\n",
      "\u001b[A\n",
      "\u001b[A\n",
      "\u001b[A\n",
      "\u001b[A\n",
      "\u001b[A\n",
      "\u001b[A\n",
      "\u001b[A\n",
      "\u001b[A\n",
      "\u001b[A\n",
      "\u001b[A\n",
      "\u001b[A\n",
      "\u001b[A\n",
      "\u001b[A\n",
      "\u001b[A\n",
      "\u001b[A\n",
      "\u001b[A\n",
      "\u001b[A\n",
      "\u001b[A\n",
      "\u001b[A\n",
      "\u001b[A\n",
      "                                                \n",
      "\n",
      "\u001b[A\u001b[A                                         \n",
      "  3%|▎         | 13/393 [06:55<08:38,  1.36s/it] \n",
      "\u001b[A\n",
      "\u001b[A"
     ]
    },
    {
     "name": "stdout",
     "output_type": "stream",
     "text": [
      "{'eval_loss': 0.12218038737773895, 'eval_runtime': 11.7376, 'eval_samples_per_second': 22.321, 'eval_steps_per_second': 2.811, 'epoch': 2.0}\n"
     ]
    },
    {
     "name": "stderr",
     "output_type": "stream",
     "text": [
      "\n",
      "\u001b[A\n",
      "\u001b[A\n",
      "\u001b[A\n",
      "\u001b[A\n",
      "\u001b[A\n",
      "\u001b[A\n",
      "\u001b[A\n",
      "\u001b[A\n",
      "\u001b[A\n",
      "\u001b[A\n",
      "\u001b[A\n",
      "\u001b[A\n",
      "\u001b[A\n",
      "\u001b[A\n",
      "\u001b[A\n",
      "\u001b[A\n",
      "\u001b[A\n",
      "\u001b[A\n",
      "\u001b[A\n",
      "\u001b[A\n",
      "\u001b[A\n",
      "\u001b[A\n",
      "\u001b[A\n",
      "\u001b[A\n",
      "\u001b[A\n",
      "\u001b[A\n",
      "\u001b[A\n",
      "\u001b[A\n",
      "\u001b[A\n",
      "\u001b[A\n",
      "\u001b[A\n",
      "\u001b[A\n",
      "                                                \n",
      "\n",
      "\u001b[A\u001b[A                                         \n",
      "  3%|▎         | 13/393 [10:03<08:38,  1.36s/it] \n",
      "\u001b[A\n",
      "                                                \n",
      "100%|██████████| 393/393 [09:25<00:00,  1.44s/it]\n"
     ]
    },
    {
     "name": "stdout",
     "output_type": "stream",
     "text": [
      "{'eval_loss': 0.11690198630094528, 'eval_runtime': 11.7168, 'eval_samples_per_second': 22.361, 'eval_steps_per_second': 2.816, 'epoch': 3.0}\n",
      "{'train_runtime': 565.9224, 'train_samples_per_second': 5.534, 'train_steps_per_second': 0.694, 'train_loss': 0.02074138262799678, 'epoch': 3.0}\n"
     ]
    },
    {
     "name": "stderr",
     "output_type": "stream",
     "text": [
      "100%|██████████| 33/33 [00:11<00:00,  2.84it/s]\n"
     ]
    },
    {
     "data": {
      "text/plain": [
       "{'eval_loss': 0.11690198630094528,\n",
       " 'eval_runtime': 11.691,\n",
       " 'eval_samples_per_second': 22.41,\n",
       " 'eval_steps_per_second': 2.823,\n",
       " 'epoch': 3.0}"
      ]
     },
     "execution_count": 25,
     "metadata": {},
     "output_type": "execute_result"
    }
   ],
   "source": [
    "\n",
    "\n",
    "training_args = TrainingArguments(\n",
    "    output_dir=\"./results\",\n",
    "    evaluation_strategy=\"epoch\",\n",
    "    learning_rate=2e-5,\n",
    "    per_device_train_batch_size=8,\n",
    "    per_device_eval_batch_size=8,\n",
    "    num_train_epochs=3, \n",
    "    lr_scheduler_type=\"linear\",\n",
    "   # logging_dir=\"./logs\",\n",
    "    save_strategy=\"no\",\n",
    ")\n",
    "\n",
    "trainer_2 = Trainer(\n",
    "    model=trained_model,\n",
    "    args=training_args,\n",
    "    train_dataset=final_dataset_2[\"train\"],\n",
    "    eval_dataset=final_dataset_2[\"test\"],\n",
    "\n",
    ")\n",
    "trainer_2.train()\n",
    "trainer_2.evaluate()"
   ]
  },
  {
   "cell_type": "code",
   "execution_count": 26,
   "metadata": {},
   "outputs": [],
   "source": [
    "trained_model_2 = trainer_2.model\n",
    "# Move the model to the MPS device\n",
    "trained_model_2.to(device)\n",
    "\n",
    "# Ensure model is in evaluation mode\n",
    "trained_model_2.eval()\n",
    "\n",
    "\n",
    "# Make predictions\n",
    "with torch.no_grad():  # Disable gradient calculation for predictions\n",
    "    outputs = trained_model_2(input_ids_tensor, attention_mask=attention_mask_tensor)\n",
    "    logits = outputs.logits  # Get the logits from the output\n",
    "\n",
    "# Convert logits to probabilities using softmax\n",
    "probabilities = torch.nn.functional.softmax(logits, dim=-1)\n",
    "\n",
    "# Get predicted class indices\n",
    "y_pred = probabilities.argmax(dim=1)\n",
    "\n",
    "# Get confidence scores (max probabilities)\n",
    "confidence_scores = probabilities.max(dim=1).values"
   ]
  },
  {
   "cell_type": "code",
   "execution_count": 27,
   "metadata": {},
   "outputs": [
    {
     "name": "stdout",
     "output_type": "stream",
     "text": [
      "F1 Score: 0.9854\n",
      "Accuracy: 0.9847\n",
      "Recall: 0.9712\n",
      "Precision: 1.0000\n"
     ]
    }
   ],
   "source": [
    "# Move y_pred to CPU and convert to NumPy\n",
    "y_pred_cpu = y_pred.cpu().numpy() if isinstance(y_pred, torch.Tensor) else np.array(y_pred)\n",
    "\n",
    "# Calculate metrics\n",
    "_f1_score = f1_score(y_test, y_pred_cpu)\n",
    "_accuracy = accuracy_score(y_test, y_pred_cpu)\n",
    "_recall = recall_score(y_test, y_pred_cpu)\n",
    "_precision = precision_score(y_test, y_pred_cpu)\n",
    "\n",
    "# Print results\n",
    "print(f\"F1 Score: {_f1_score:.4f}\")\n",
    "print(f\"Accuracy: {_accuracy:.4f}\")\n",
    "print(f\"Recall: {_recall:.4f}\")\n",
    "print(f\"Precision: {_precision:.4f}\")"
   ]
  },
  {
   "cell_type": "code",
   "execution_count": 28,
   "metadata": {},
   "outputs": [
    {
     "data": {
      "image/png": "[encoded data removed]",
      "text/plain": [
       "<Figure size 800x600 with 2 Axes>"
      ]
     },
     "metadata": {},
     "output_type": "display_data"
    }
   ],
   "source": [
    "plot_confusion_matrix(y_test, y_pred_cpu, labels=['benign', 'jailbreak'])\n"
   ]
  },
  {
   "cell_type": "code",
   "execution_count": 29,
   "metadata": {},
   "outputs": [],
   "source": [
    "\n",
    "trained_model_2.config.id2label = {\n",
    "    \"0\": \"benign\",\n",
    "    \"1\": \"jailbreak\"\n",
    "}"
   ]
  },
  {
   "cell_type": "code",
   "execution_count": 30,
   "metadata": {},
   "outputs": [
    {
     "name": "stdout",
     "output_type": "stream",
     "text": [
      "pushing to huggingface hub\n"
     ]
    },
    {
     "name": "stderr",
     "output_type": "stream",
     "text": [
      "Note: Environment variable`HF_TOKEN` is set and is the current active token independently from the token you've just configured.\n",
      "model.safetensors: 100%|██████████| 438M/438M [00:44<00:00, 9.79MB/s]\n",
      "No files have been modified since last commit. Skipping to prevent empty commit.\n"
     ]
    }
   ],
   "source": [
    "load_dotenv()\n",
    "if 'HF_TOKEN' in os.environ:\n",
    "    print(\"pushing to huggingface hub\")\n",
    "    HF_TOKEN = os.getenv(\"HF_TOKEN\")\n",
    "    login(token=HF_TOKEN)  \n",
    "    trained_model_2.push_to_hub(\"oranne55/qualifier-model3-finetune-pretrained-transformer\")\n",
    "    tokenizer.push_to_hub(\"oranne55/qualifier-model3-finetune-pretrained-transformer\")"
   ]
  },
  {
   "cell_type": "code",
   "execution_count": null,
   "metadata": {},
   "outputs": [],
   "source": []
  }
 ],
 "metadata": {
  "kernelspec": {
   "display_name": "qualifier-env",
   "language": "python",
   "name": "python3"
  },
  "language_info": {
   "codemirror_mode": {
    "name": "ipython",
    "version": 3
   },
   "file_extension": ".py",
   "mimetype": "text/x-python",
   "name": "python",
   "nbconvert_exporter": "python",
   "pygments_lexer": "ipython3",
   "version": "3.10.15"
  }
 },
 "nbformat": 4,
 "nbformat_minor": 2
}
